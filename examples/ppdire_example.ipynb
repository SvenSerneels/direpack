{
 "cells": [
  {
   "cell_type": "markdown",
   "metadata": {},
   "source": [
    "`ppdire.py` subpackage: examples\n",
    "================================\n",
    "Here, we will illustrate how to use `ppdire.py` to perform different types of projection pursuit dimension reduction. \n",
    "\n",
    "To run a toy example, start by sourcing packages and data: "
   ]
  },
  {
   "cell_type": "code",
   "execution_count": 1,
   "metadata": {},
   "outputs": [],
   "source": [
    "# Load data\n",
    "import pandas as ps\n",
    "import numpy as np\n",
    "data = ps.read_csv(\"../data/Returns_shares.csv\")\n",
    "columns = data.columns[2:8]\n",
    "(n,p) = data.shape\n",
    "datav = np.array(data.values[:,2:8].astype('float64'))\n",
    "y = datav[:,0]\n",
    "X = datav[:,1:5]\n",
    "        \n",
    "# Scale data\n",
    "from direpack import VersatileScaler\n",
    "centring = VersatileScaler()\n",
    "Xs = centring.fit_transform(X)"
   ]
  },
  {
   "cell_type": "markdown",
   "metadata": {},
   "source": [
    "1\\. Comparison of PP estimates to Scikit-Learn \n",
    "======================================\n",
    "Let us at first run `ppdire` to produce slow, approximate PP estimates of \n",
    "PCA and PLS. This makes it easy to verify that the algorithm is correct. \n",
    "        \n",
    "1\\.1\\. PCA\n",
    "--------------\n",
    "By setting the projection index to variance, projection pursuit is a slow, approximate way to calculate PCA. Let's compare the `ppdire` results to `sklearn`'s.\n",
    "\n",
    "- PCA ex `scikit-learn` "
   ]
  },
  {
   "cell_type": "code",
   "execution_count": 2,
   "metadata": {},
   "outputs": [
    {
     "data": {
      "text/plain": [
       "array([[ 0.6160923 ,  0.09574799, -0.27553202,  0.73167254],\n",
       "       [ 0.3612025 ,  0.79963754,  0.40566716, -0.25602091],\n",
       "       [ 0.57369773, -0.2220554 , -0.47175995, -0.63166832],\n",
       "       [ 0.40104108, -0.54963945,  0.73277473,  0.01018414]])"
      ]
     },
     "execution_count": 2,
     "metadata": {},
     "output_type": "execute_result"
    }
   ],
   "source": [
    "import sklearn.decomposition as skd\n",
    "skpca = skd.PCA(n_components=4)\n",
    "skpca.fit(Xs)\n",
    "skpca.components_.T # sklearn outputs loadings as rows ! "
   ]
  },
  {
   "cell_type": "markdown",
   "metadata": {},
   "source": [
    "- PCA ex `ppdire`, using SLSQP optimization "
   ]
  },
  {
   "cell_type": "code",
   "execution_count": 3,
   "metadata": {},
   "outputs": [
    {
     "data": {
      "text/plain": [
       "array([[-0.61607419,  0.09583096,  0.27564672, -0.73163589],\n",
       "       [-0.36117419,  0.79968851, -0.40559673,  0.25604175],\n",
       "       [-0.57366555, -0.22197834,  0.47186541,  0.63170272],\n",
       "       [-0.40114044, -0.54958195, -0.73270268, -0.01015973]])"
      ]
     },
     "execution_count": 3,
     "metadata": {},
     "output_type": "execute_result"
    }
   ],
   "source": [
    "from direpack import dicomo, ppdire\n",
    "pppca = ppdire(projection_index = dicomo, pi_arguments = {'mode' : 'var'}, n_components=4, optimizer='SLSQP')\n",
    "pppca.fit(X)\n",
    "pppca.x_loadings_"
   ]
  },
  {
   "cell_type": "markdown",
   "metadata": {},
   "source": [
    "- PCA ex `ppdire`, using its native `grid` algorithm optimization \\[1\\]."
   ]
  },
  {
   "cell_type": "code",
   "execution_count": 4,
   "metadata": {},
   "outputs": [
    {
     "name": "stderr",
     "output_type": "stream",
     "text": [
      "C:\\Users\\serneels\\AppData\\Local\\anaconda3\\Lib\\site-packages\\direpack\\ppdire\\ppdire.py:645: OptimizeWarning: Unknown solver options: ndir\n",
      "  wi = minimize(pp_objective,\n"
     ]
    },
    {
     "data": {
      "text/plain": [
       "array([[-0.61607419,  0.09583096,  0.27564672, -0.73163589],\n",
       "       [-0.36117419,  0.79968851, -0.40559673,  0.25604175],\n",
       "       [-0.57366555, -0.22197834,  0.47186541,  0.63170272],\n",
       "       [-0.40114044, -0.54958195, -0.73270268, -0.01015973]])"
      ]
     },
     "execution_count": 4,
     "metadata": {},
     "output_type": "execute_result"
    }
   ],
   "source": [
    "pppca = ppdire(projection_index = dicomo, pi_arguments = {'mode' : 'var'}, n_components=4, optimizer='SLSQP',optimizer_options={'ndir':1000,'maxiter':1000})\n",
    "pppca.fit(X)\n",
    "pppca.x_loadings_"
   ]
  },
  {
   "cell_type": "markdown",
   "metadata": {},
   "source": [
    "- PCR: "
   ]
  },
  {
   "cell_type": "code",
   "execution_count": 5,
   "metadata": {},
   "outputs": [
    {
     "data": {
      "text/plain": [
       "array([[-0.27208478],\n",
       "       [ 0.83947294],\n",
       "       [-0.22658715],\n",
       "       ...,\n",
       "       [-0.03175912],\n",
       "       [-0.10768766],\n",
       "       [ 0.26840235]])"
      ]
     },
     "execution_count": 5,
     "metadata": {},
     "output_type": "execute_result"
    }
   ],
   "source": [
    "pppca.fit(X,y=y)\n",
    "pppca.fitted_"
   ]
  },
  {
   "cell_type": "code",
   "execution_count": 104,
   "metadata": {},
   "outputs": [
    {
     "data": {
      "text/plain": [
       "array([-0.27208478,  0.83947294, -0.22658715, ..., -0.03175912,\n",
       "       -0.10768766,  0.26840235])"
      ]
     },
     "execution_count": 104,
     "metadata": {},
     "output_type": "execute_result"
    }
   ],
   "source": [
    "from sklearn.linear_model import LinearRegression\n",
    "lm = LinearRegression()\n",
    "lm.fit(skpca.components_,y)\n",
    "lm.predict(pppca.x_scores_)"
   ]
  },
  {
   "cell_type": "markdown",
   "metadata": {},
   "source": [
    "1\\.2\\. PLS \n",
    "----------\n",
    "Likewise, by setting the projection index to covariance, one obtains partial least squares. \n",
    "\n",
    "- PLS ex `scikit-learn`"
   ]
  },
  {
   "cell_type": "code",
   "execution_count": 108,
   "metadata": {
    "scrolled": true
   },
   "outputs": [
    {
     "name": "stdout",
     "output_type": "stream",
     "text": [
      "(1, 4)\n"
     ]
    },
    {
     "data": {
      "text/plain": [
       "array([[-0.27212755],\n",
       "       [ 0.83959019],\n",
       "       [-0.22662337],\n",
       "       ...,\n",
       "       [-0.03176729],\n",
       "       [-0.10770676],\n",
       "       [ 0.26843739]])"
      ]
     },
     "execution_count": 108,
     "metadata": {},
     "output_type": "execute_result"
    }
   ],
   "source": [
    "import sklearn.cross_decomposition as skc\n",
    "skpls = skc.PLSRegression(n_components=4)\n",
    "skpls.fit(Xs,(y-np.mean(y)).ravel()/np.std(y))\n",
    "skpls.x_scores_\n",
    "print(skpls.coef_.shape) \n",
    "np.matmul(Xs,skpls.coef_.transpose())*np.std(y) + np.mean(y)"
   ]
  },
  {
   "cell_type": "markdown",
   "metadata": {},
   "source": [
    "- PLS ex `ppdire`, using SLSQP optimization "
   ]
  },
  {
   "cell_type": "code",
   "execution_count": 109,
   "metadata": {},
   "outputs": [
    {
     "name": "stdout",
     "output_type": "stream",
     "text": [
      "[[ 0.27190446  0.33122054  0.35628291  0.35734814]\n",
      " [ 0.05506195 -0.04547853 -0.04113433 -0.04417198]\n",
      " [ 0.23907241  0.25452063  0.22888164  0.22632364]\n",
      " [ 0.10731098  0.0461689   0.04141709  0.04614   ]]\n"
     ]
    },
    {
     "data": {
      "text/plain": [
       "array([[-0.27208478],\n",
       "       [ 0.83947294],\n",
       "       [-0.22658715],\n",
       "       ...,\n",
       "       [-0.03175912],\n",
       "       [-0.10768766],\n",
       "       [ 0.26840235]])"
      ]
     },
     "execution_count": 109,
     "metadata": {},
     "output_type": "execute_result"
    }
   ],
   "source": [
    "pppls = ppdire(projection_index = dicomo, pi_arguments = {'mode' : 'cov'}, n_components=4, square_pi=False, optimizer='SLSQP', optimizer_options={'maxiter':500})\n",
    "pppls.fit(X,y)\n",
    "pppls.x_scores_\n",
    "print(pppls.coef_scaled_) # Column 4 should agree with skpls.coef_\n",
    "pppls.fitted_  "
   ]
  },
  {
   "cell_type": "code",
   "execution_count": 110,
   "metadata": {},
   "outputs": [
    {
     "name": "stderr",
     "output_type": "stream",
     "text": [
      "C:\\Users\\serneels\\AppData\\Local\\anaconda3\\Lib\\site-packages\\direpack\\ipopt_temp\\ipopt_wrapper.py:203: FutureWarning: The class named 'problem' will soon be deprecated in CyIpopt. Please replace all uses and use 'Problem' going forward.\n",
      "  nlp = cyipopt.problem(n = len(_x0),\n",
      "C:\\Users\\serneels\\AppData\\Local\\anaconda3\\Lib\\site-packages\\cyipopt\\utils.py:43: FutureWarning: The method named 'addOption' in class 'Problem' will soon be deprecated in CyIpopt. Please replace all uses and use 'add_option' going forward.\n",
      "  warnings.warn(msg, FutureWarning)\n"
     ]
    },
    {
     "name": "stdout",
     "output_type": "stream",
     "text": [
      "[[ 0.27190611  0.33122169  0.35628285  0.35734814]\n",
      " [ 0.05505942 -0.0454783  -0.04113419 -0.04417198]\n",
      " [ 0.23906983  0.25451947  0.22888159  0.22632364]\n",
      " [ 0.10731458  0.04616881  0.0414173   0.04614   ]]\n"
     ]
    },
    {
     "data": {
      "text/plain": [
       "array([[-0.27208478],\n",
       "       [ 0.83947294],\n",
       "       [-0.22658715],\n",
       "       ...,\n",
       "       [-0.03175912],\n",
       "       [-0.10768766],\n",
       "       [ 0.26840235]])"
      ]
     },
     "execution_count": 110,
     "metadata": {},
     "output_type": "execute_result"
    }
   ],
   "source": [
    "pppls = ppdire(projection_index = dicomo, pi_arguments = {'mode' : 'cov'}, n_components=4, square_pi=True, optimizer='IPOPT', optimizer_options={'maxiter':500})\n",
    "pppls.fit(X,y)\n",
    "pppls.x_scores_\n",
    "print(pppls.coef_scaled_) # Column 4 should agree with skpls.coef_\n",
    "pppls.fitted_  "
   ]
  },
  {
   "cell_type": "markdown",
   "metadata": {},
   "source": [
    "- PLS ex `ppdire`, `grid` optimization"
   ]
  },
  {
   "cell_type": "code",
   "execution_count": 12,
   "metadata": {},
   "outputs": [
    {
     "name": "stdout",
     "output_type": "stream",
     "text": [
      "1\n",
      "2\n",
      "1\n",
      "2\n",
      "1\n",
      "2\n",
      "1\n",
      "2\n",
      "[[ 0.27197566  0.33138071  0.35633098  0.35734814]\n",
      " [ 0.05543391 -0.0453769  -0.04118079 -0.04417198]\n",
      " [ 0.23857626  0.25436242  0.22879951  0.22632364]\n",
      " [ 0.10758362  0.04611615  0.04150847  0.04614   ]]\n"
     ]
    },
    {
     "data": {
      "text/plain": [
       "array([[-0.27208478],\n",
       "       [ 0.83947294],\n",
       "       [-0.22658715],\n",
       "       ...,\n",
       "       [-0.03175912],\n",
       "       [-0.10768766],\n",
       "       [ 0.26840235]])"
      ]
     },
     "execution_count": 12,
     "metadata": {},
     "output_type": "execute_result"
    }
   ],
   "source": [
    "pppls = ppdire(projection_index = dicomo, pi_arguments = {'mode' : 'cov'}, n_components=4, square_pi=True, optimizer='grid',optimizer_options={'ndir':1000,'maxiter':1000})\n",
    "pppls.fit(X,y)\n",
    "pppls.x_scores_\n",
    "print(pppls.coef_scaled_) # Column 4 should agree with skpls.coef_\n",
    "pppls.fitted_  "
   ]
  },
  {
   "cell_type": "code",
   "execution_count": 13,
   "metadata": {},
   "outputs": [
    {
     "name": "stdout",
     "output_type": "stream",
     "text": [
      "1\n",
      "2\n",
      "1\n",
      "2\n",
      "1\n",
      "2\n",
      "1\n",
      "2\n",
      "[[ 0.27197566  0.33138071  0.35633098  0.35734814]\n",
      " [ 0.05543391 -0.0453769  -0.04118079 -0.04417198]\n",
      " [ 0.23857626  0.25436242  0.22879951  0.22632364]\n",
      " [ 0.10758362  0.04611615  0.04150847  0.04614   ]]\n"
     ]
    },
    {
     "data": {
      "text/plain": [
       "array([[-0.27208478],\n",
       "       [ 0.83947294],\n",
       "       [-0.22658715],\n",
       "       ...,\n",
       "       [-0.03175912],\n",
       "       [-0.10768766],\n",
       "       [ 0.26840235]])"
      ]
     },
     "execution_count": 13,
     "metadata": {},
     "output_type": "execute_result"
    }
   ],
   "source": [
    "pppls2 = ppdire(projection_index = dicomo, pi_arguments = {'mode' : 'continuum'}, alpha=1, n_components=4, square_pi=True, optimizer='grid',optimizer_options={'ndir':1000,'maxiter':1000})\n",
    "pppls.fit(X,y)\n",
    "pppls.x_scores_\n",
    "print(pppls.coef_scaled_) # Column 4 should agree with skpls.coef_\n",
    "pppls.fitted_  "
   ]
  },
  {
   "cell_type": "markdown",
   "metadata": {},
   "source": [
    "Remark: Dimension Reduction techniques based on projection onto latent variables, \n",
    "such as PCA, PLS and ICA, are sign indeterminate with respect to the components. \n",
    "Therefore, signs of estimates by different algorithms can be opposed, yet the \n",
    "absolute values should be identical up to algorithm precision.  Here, this implies\n",
    "that `sklearn` and `ppdire`'s `x_scores_` and `x_loadings` can have opposed signs,\n",
    "yet the coefficients and fitted responses should be identical. \n",
    "\n",
    "2\\. Robust projection pursuit estimators\n",
    "=================================\n",
    "\n",
    "Note that optimization through `scipy.optimize` is much more efficient than the native `grid` algorithm, yet will only provide correct results for classical projection indices. The native `grid` algorithm should be used when \n",
    "the projection index involves order statistics of any kind, such as ranks, trimming, winsorizing, or empirical quantiles.\n",
    "\n",
    "- Robust PCA based on the Median Absolute Deviation (MAD) \\[2\\]. "
   ]
  },
  {
   "cell_type": "code",
   "execution_count": 8,
   "metadata": {},
   "outputs": [
    {
     "name": "stdout",
     "output_type": "stream",
     "text": [
      "1\n",
      "2\n",
      "3\n",
      "1\n",
      "2\n",
      "3\n",
      "4\n",
      "5\n",
      "6\n",
      "7\n",
      "8\n",
      "9\n",
      "10\n",
      "11\n",
      "1\n",
      "2\n",
      "3\n",
      "4\n",
      "1\n",
      "2\n"
     ]
    },
    {
     "data": {
      "text/plain": [
       "array([[ 0.6324543 , -0.00651997, -0.35820225,  0.6438448 ],\n",
       "       [ 0.44750274, -0.67228343,  0.4950862 , -0.21806968],\n",
       "       [ 0.53378114,  0.28794634, -0.46650197, -0.72699245],\n",
       "       [ 0.35432068,  0.68524337,  0.64350842,  0.09692107]])"
      ]
     },
     "execution_count": 8,
     "metadata": {},
     "output_type": "execute_result"
    }
   ],
   "source": [
    "lcpca = ppdire(projection_index = dicomo, pi_arguments = {'mode' : 'var', 'center': 'median'}, n_components=4, optimizer='grid',optimizer_options={'ndir':1000,'maxiter':10})\n",
    "#set a higher maxiter for convergence and precision! \n",
    "lcpca.fit(X)\n",
    "lcpca.x_loadings_"
   ]
  },
  {
   "cell_type": "markdown",
   "metadata": {},
   "source": [
    "To extend to Robust PCR, just add `y` and `regopt = robust`: "
   ]
  },
  {
   "cell_type": "code",
   "execution_count": 9,
   "metadata": {},
   "outputs": [
    {
     "name": "stdout",
     "output_type": "stream",
     "text": [
      "1\n",
      "2\n",
      "3\n",
      "1\n",
      "2\n",
      "3\n",
      "4\n",
      "5\n",
      "6\n",
      "7\n",
      "8\n",
      "9\n",
      "10\n",
      "11\n",
      "1\n",
      "2\n",
      "3\n",
      "4\n",
      "1\n",
      "2\n"
     ]
    },
    {
     "data": {
      "text/plain": [
       "array([-0.17676037,  0.7036929 , -0.21218902, ...,  0.11876807,\n",
       "        0.23188034, -0.49625196])"
      ]
     },
     "execution_count": 9,
     "metadata": {},
     "output_type": "execute_result"
    }
   ],
   "source": [
    "lcpca = ppdire(projection_index = dicomo, pi_arguments = {'mode' : 'var', 'center': 'median'}, n_components=4, optimizer='grid',optimizer_options={'ndir':1000,'maxiter':10},regopt='robust',square_pi=True)\n",
    "lcpca.fit(X,y=y)\n",
    "lcpca.x_loadings_\n",
    "lcpca.x_scores_\n",
    "lcpca.coef_scaled_\n",
    "lcpca.predict(X[:2666])"
   ]
  },
  {
   "cell_type": "markdown",
   "metadata": {},
   "source": [
    "- Robust Continuum Regression \\[4\\] based on trimmed continuum association: "
   ]
  },
  {
   "cell_type": "code",
   "execution_count": 111,
   "metadata": {},
   "outputs": [
    {
     "name": "stdout",
     "output_type": "stream",
     "text": [
      "1\n",
      "2\n",
      "1\n",
      "2\n",
      "3\n",
      "4\n",
      "5\n",
      "6\n",
      "1\n",
      "2\n",
      "3\n",
      "1\n",
      "2\n"
     ]
    },
    {
     "data": {
      "text/plain": [
       "array([[-0.17203243],\n",
       "       [ 0.76751053],\n",
       "       [-0.23144196],\n",
       "       ...,\n",
       "       [-0.06028048],\n",
       "       [-0.08524319],\n",
       "       [ 0.34510628]])"
      ]
     },
     "execution_count": 111,
     "metadata": {},
     "output_type": "execute_result"
    }
   ],
   "source": [
    "rcr = ppdire(projection_index = dicomo, pi_arguments = {'mode' : 'continuum'}, n_components=4, trimming=0.2, soft_trim=False, alpha=.9, optimizer='grid',optimizer_options={'ndir':1000,'maxiter':2500},square_pi=False,regopt='robust')\n",
    "rcr.fit(X,y=y)\n",
    "rcr.x_loadings_\n",
    "rcr.x_scores_\n",
    "rcr.coef_scaled_\n",
    "rcr.fitted_"
   ]
  },
  {
   "cell_type": "code",
   "execution_count": 112,
   "metadata": {},
   "outputs": [
    {
     "data": {
      "text/plain": [
       "array([[-0.17968447],\n",
       "       [ 0.77862687],\n",
       "       [-0.23554174],\n",
       "       ...,\n",
       "       [-0.05416643],\n",
       "       [-0.08695268],\n",
       "       [ 0.32841992]])"
      ]
     },
     "execution_count": 112,
     "metadata": {},
     "output_type": "execute_result"
    }
   ],
   "source": [
    "rcr2 = ppdire(projection_index = dicomo, pi_arguments = {'mode': 'continuum'}, alpha= .9, n_components=4, trimming=0.2, soft_trim=True, square_pi=False, optimizer='SLSQP',optimizer_options={'maxiter':50000,'ftol': 1e-9},regopt='robust')\n",
    "rcr2.fit(X,y=y)\n",
    "rcr2.x_loadings_\n",
    "rcr2.x_scores_\n",
    "rcr2.coef_scaled_\n",
    "rcr2.fitted_"
   ]
  },
  {
   "cell_type": "code",
   "execution_count": 113,
   "metadata": {},
   "outputs": [
    {
     "data": {
      "text/plain": [
       "array([[-0.17281061],\n",
       "       [ 0.76901071],\n",
       "       [-0.2322118 ],\n",
       "       ...,\n",
       "       [-0.05966695],\n",
       "       [-0.08567557],\n",
       "       [ 0.34304424]])"
      ]
     },
     "execution_count": 113,
     "metadata": {},
     "output_type": "execute_result"
    }
   ],
   "source": [
    "rcr3 = ppdire(projection_index = dicomo, pi_arguments = {'mode': 'continuum'}, alpha= .9, n_components=4, trimming=0.2, soft_trim=True, square_pi=False, optimizer='IPOPT',optimizer_options={'tol':1e-9},regopt='robust')\n",
    "rcr3.fit(X,y=y)\n",
    "rcr3.x_loadings_\n",
    "rcr3.x_scores_\n",
    "rcr3.coef_scaled_\n",
    "rcr3.fitted_"
   ]
  },
  {
   "cell_type": "code",
   "execution_count": 89,
   "metadata": {},
   "outputs": [
    {
     "data": {
      "text/plain": [
       "array([[ 0.25917463,  0.31791147,  0.34922553,  0.35734814],\n",
       "       [ 0.07179608, -0.04501536, -0.03612945, -0.04417198],\n",
       "       [ 0.23312968,  0.26513965,  0.2385172 ,  0.22632364],\n",
       "       [ 0.11702621,  0.05159816,  0.03397169,  0.04614   ]])"
      ]
     },
     "execution_count": 89,
     "metadata": {},
     "output_type": "execute_result"
    }
   ],
   "source": [
    "rcr.coef_scaled_"
   ]
  },
  {
   "cell_type": "code",
   "execution_count": 90,
   "metadata": {},
   "outputs": [
    {
     "data": {
      "text/plain": [
       "array([[ 0.25928044,  0.31793076,  0.34927729,  0.35734814],\n",
       "       [ 0.0718799 , -0.04505083, -0.03621581, -0.04417198],\n",
       "       [ 0.23331546,  0.26509692,  0.2384731 ,  0.22632364],\n",
       "       [ 0.11657139,  0.05166868,  0.03399579,  0.04614   ]])"
      ]
     },
     "execution_count": 90,
     "metadata": {},
     "output_type": "execute_result"
    }
   ],
   "source": [
    "rcr2.coef_scaled_"
   ]
  },
  {
   "cell_type": "code",
   "execution_count": 91,
   "metadata": {},
   "outputs": [
    {
     "data": {
      "text/plain": [
       "array([[ 0.25928041,  0.31793085,  0.3236645 ,  0.35734814],\n",
       "       [ 0.07187995, -0.04505077, -0.05186423, -0.04417198],\n",
       "       [ 0.23331542,  0.26509689,  0.25586478,  0.22632364],\n",
       "       [ 0.11657143,  0.05166853,  0.06219087,  0.04614   ]])"
      ]
     },
     "execution_count": 91,
     "metadata": {},
     "output_type": "execute_result"
    }
   ],
   "source": [
    "rcr3.coef_scaled_"
   ]
  },
  {
   "cell_type": "markdown",
   "metadata": {},
   "source": [
    "Let us now plot the results. The `plot` subpackage contains a plotting function for `ppdire`. To plot predicted vs. actual values:"
   ]
  },
  {
   "cell_type": "code",
   "execution_count": 11,
   "metadata": {},
   "outputs": [
    {
     "data": {
      "image/png": "[encoded data removed]",
      "text/plain": [
       "<Figure size 640x480 with 1 Axes>"
      ]
     },
     "metadata": {},
     "output_type": "display_data"
    }
   ],
   "source": [
    "from direpack import ppdire_plot\n",
    "dr_plot=ppdire_plot(rcr,['w','w','g','y','m','b','k'])\n",
    "dr_plot.plot_yyp(label='KMB',title='fitted vs true quotation, training set')"
   ]
  },
  {
   "cell_type": "code",
   "execution_count": 12,
   "metadata": {},
   "outputs": [
    {
     "data": {
      "image/png": "[encoded data removed]",
      "text/plain": [
       "<Figure size 640x480 with 1 Axes>"
      ]
     },
     "metadata": {},
     "output_type": "display_data"
    }
   ],
   "source": [
    "dr_plot.plot_yyp(ytruev=y[2666:],Xn=X[2666:],label='KMB',title='fitted vs true quotation, test set')"
   ]
  },
  {
   "cell_type": "markdown",
   "metadata": {},
   "source": [
    "To plot scores: "
   ]
  },
  {
   "cell_type": "code",
   "execution_count": 13,
   "metadata": {},
   "outputs": [
    {
     "data": {
      "image/png": "[encoded data removed]",
      "text/plain": [
       "<Figure size 640x480 with 1 Axes>"
      ]
     },
     "metadata": {},
     "output_type": "display_data"
    }
   ],
   "source": [
    "dr_plot.plot_projections(Xn=X[2666:],label='KMB',title='fitted vs true quotation, test set')"
   ]
  },
  {
   "cell_type": "markdown",
   "metadata": {},
   "source": [
    "3\\. Projection pursuit generalized betas\n",
    "================================\n",
    "\n",
    "Generalized betas are obtained as the projection pursuit weights using the \n",
    "co-moment analysis projection index (CAPI) \\[2\\]. "
   ]
  },
  {
   "cell_type": "code",
   "execution_count": 14,
   "metadata": {},
   "outputs": [
    {
     "data": {
      "text/plain": [
       "array([[ 0.89537008],\n",
       "       [-0.14912599],\n",
       "       [ 0.03742244],\n",
       "       [ 0.41793949]])"
      ]
     },
     "execution_count": 14,
     "metadata": {},
     "output_type": "execute_result"
    }
   ],
   "source": [
    "from direpack import capi \n",
    "est = ppdire(projection_index = capi, pi_arguments = {'max_degree' : 3,'projection_index': dicomo, 'scaling': False}, n_components=1, trimming=0,center_data=True,scale_data=True)\n",
    "est.fit(X,y=y,ndir=200)\n",
    "est.x_weights_"
   ]
  },
  {
   "cell_type": "markdown",
   "metadata": {},
   "source": [
    "Note that these data aren't the greatest illustration. Evaluating CAPI projections, makes more sense if y is a market index, e.g. SPX. "
   ]
  },
  {
   "cell_type": "markdown",
   "metadata": {},
   "source": [
    "4\\. Cross-validating through `scikit-learn` \n",
    "===========================================\n",
    "\n",
    "The `ppdire` class is 100% compatible with `scikit-learn`, which allows, for instance, hyperparameter tuning through `GridSearchCV`. \n",
    "To try out, uncomment the line below and run. (this may take some time). "
   ]
  },
  {
   "cell_type": "code",
   "execution_count": 15,
   "metadata": {},
   "outputs": [],
   "source": [
    "# Uncomment to try out:\n",
    "\n",
    "# from sklearn.model_selection import GridSearchCV\n",
    "# rcr_cv = GridSearchCV(ppdire(projection_index=dicomo, \n",
    "#                                    pi_arguments = {'mode' : 'continuum'\n",
    "#                                                    }, \n",
    "#                                    optimizer = 'grid',\n",
    "#                                   optimizer_options = {'ndir':1000,'maxiter':1000}\n",
    "#                                   ), \n",
    "#                             cv=10, \n",
    "#                             param_grid={\"n_components\": [1, 2, 3], \n",
    "#                                         \"alpha\": np.arange(.1,3,.3).tolist(),\n",
    "#                                         \"trimming\": [0, .15]\n",
    "#                                        }\n",
    "#                            )\n",
    "#       rcr_cv.fit(X[:2666],y[:2666]) \n",
    "#       rcr_cv.best_params_\n",
    "#       rcr_cv.predict(X[2666:])"
   ]
  },
  {
   "cell_type": "markdown",
   "metadata": {},
   "source": [
    "5\\. Data compression\n",
    "=================\n",
    "While `ppdire` is very flexible and can project according to a very wide variety \n",
    "of projection indices, it can be computationally demanding. For flat data tables,\n",
    "a workaround has been built in. However, not that running the code in the next field can take quite some time nonetheless.   "
   ]
  },
  {
   "cell_type": "code",
   "execution_count": 16,
   "metadata": {},
   "outputs": [
    {
     "name": "stdout",
     "output_type": "stream",
     "text": [
      "1\n",
      "2\n",
      "3\n",
      "4\n",
      "5\n",
      "6\n",
      "7\n",
      "1\n",
      "2\n",
      "3\n",
      "4\n",
      "5\n",
      "6\n",
      "7\n",
      "8\n",
      "1\n",
      "2\n",
      "3\n",
      "1\n",
      "2\n",
      "[[-4.71006531e-05 -1.73132209e-05 -2.32341283e-05  1.92662729e-05]\n",
      " [-4.91739225e-05 -2.17947308e-05 -2.87668265e-05  1.20306899e-05]\n",
      " [-5.12759847e-05 -1.42524723e-05 -1.93896027e-05  3.01898039e-05]\n",
      " [-5.52807363e-05 -1.16097279e-05 -1.61289191e-05  3.89100248e-05]\n",
      " [-6.40861390e-05 -2.28662497e-05 -3.16943089e-05  2.28228633e-05]\n",
      " [-7.48150962e-05 -1.73256629e-05 -2.46603844e-05  4.64485391e-05]\n",
      " [-9.23330952e-05 -1.00954653e-05 -1.93254855e-05  7.29662769e-05]\n",
      " [-1.15254313e-04 -7.55476110e-06 -1.78942404e-05  9.62501844e-05]\n",
      " [-1.47591582e-04  1.82604412e-05  9.50671369e-06  1.71444482e-04]\n",
      " [-1.61291766e-04  1.09591453e-04  1.11139450e-04  3.23510785e-04]\n",
      " [-1.70482657e-04  3.03507364e-04  3.33934289e-04  6.62455264e-04]\n",
      " [-1.45179276e-04  5.85905143e-04  6.65129657e-04  1.10966356e-03]\n",
      " [-7.77104871e-05  8.64100138e-04  9.93342063e-04  1.53689877e-03]\n",
      " [ 2.11272402e-05  1.29104873e-03  1.50740200e-03  2.22823988e-03]\n",
      " [ 7.15290516e-05  1.50264099e-03  1.77075253e-03  2.56595212e-03]\n",
      " [ 1.09162781e-04  1.60968932e-03  1.89047954e-03  2.69343153e-03]\n",
      " [ 1.18617337e-04  1.48081354e-03  1.75097349e-03  2.49386541e-03]\n",
      " [ 1.38542583e-04  1.51925671e-03  1.78998761e-03  2.53266679e-03]\n",
      " [ 1.15328556e-04  1.34385620e-03  1.58170920e-03  2.24175998e-03]\n",
      " [ 1.04008113e-04  1.24163334e-03  1.46883931e-03  2.09164867e-03]\n",
      " [ 1.00279069e-04  1.14563078e-03  1.35460667e-03  1.91751954e-03]\n",
      " [ 9.29694015e-05  1.08316596e-03  1.27498902e-03  1.80864468e-03]\n",
      " [ 8.26696542e-05  1.05340683e-03  1.24422190e-03  1.77091948e-03]\n",
      " [ 6.47914606e-05  9.97827038e-04  1.17178255e-03  1.66781038e-03]\n",
      " [ 6.12413453e-05  9.90875716e-04  1.15919316e-03  1.65456305e-03]\n",
      " [ 5.01145991e-05  9.01609455e-04  1.04888390e-03  1.49176735e-03]\n",
      " [ 4.02866338e-05  9.13001364e-04  1.06391901e-03  1.52476999e-03]\n",
      " [-3.05615438e-06  7.10080362e-04  8.17440442e-04  1.18833162e-03]\n",
      " [-2.44187108e-05  6.29096375e-04  7.20426193e-04  1.06866965e-03]\n",
      " [-5.97145951e-05  3.70031394e-04  4.03749745e-04  6.06473890e-04]\n",
      " [-9.80409902e-05  1.87903384e-04  1.79674434e-04  2.89460459e-04]\n",
      " [-1.34098811e-04 -1.12348287e-04 -1.74794841e-04 -2.13296169e-04]\n",
      " [-1.24343309e-04 -1.41794447e-04 -2.22844201e-04 -3.05994474e-04]\n",
      " [-1.17822358e-04 -1.11625679e-04 -1.89797210e-04 -2.62100100e-04]\n",
      " [-1.08178385e-04 -1.72394155e-04 -2.64518196e-04 -3.92883912e-04]\n",
      " [-8.49982491e-05 -1.70789513e-04 -2.63119511e-04 -4.12829580e-04]\n",
      " [-7.87502825e-05 -1.64350918e-04 -2.49280584e-04 -3.93346471e-04]\n",
      " [-6.73822281e-05 -1.67211258e-04 -2.59260243e-04 -4.22724610e-04]\n",
      " [-5.20137620e-05 -1.13443406e-04 -1.90768004e-04 -3.25708100e-04]\n",
      " [-4.00944219e-05 -7.82315535e-05 -1.42046828e-04 -2.53203103e-04]\n",
      " [-2.50322800e-05 -1.27769900e-05 -6.05165820e-05 -1.37572382e-04]\n",
      " [-2.19004679e-05 -1.83290645e-05 -6.49299050e-05 -1.44041769e-04]\n",
      " [-1.86259833e-05 -4.49196983e-05 -9.57258830e-05 -1.91755815e-04]\n",
      " [-1.18326912e-05 -8.47329258e-06 -4.95464739e-05 -1.22460940e-04]\n",
      " [-2.19443355e-05 -5.82137747e-05 -1.08324145e-04 -1.99533632e-04]\n",
      " [-1.62440672e-05 -6.14701868e-06 -4.22943993e-05 -1.02046727e-04]\n",
      " [-2.72486729e-05 -8.00548117e-05 -1.31931125e-04 -2.31111739e-04]\n",
      " [-3.63183640e-05 -9.53086321e-05 -1.45851862e-04 -2.35959085e-04]\n",
      " [-4.62651172e-05 -1.45285520e-04 -2.07617729e-04 -3.22884381e-04]\n",
      " [-5.40901438e-05 -1.59443154e-04 -2.20997104e-04 -3.30250566e-04]\n",
      " [-6.72413154e-05 -2.18837939e-04 -2.91096358e-04 -4.25314693e-04]\n",
      " [-9.45603341e-05 -3.66551896e-04 -4.68981133e-04 -6.68338921e-04]\n",
      " [-1.12718617e-04 -4.29273026e-04 -5.38468529e-04 -7.46048245e-04]\n",
      " [-1.28205881e-04 -5.93256284e-04 -7.31788547e-04 -1.01521732e-03]\n",
      " [-1.14313683e-04 -5.68585581e-04 -6.98219157e-04 -9.67922632e-04]\n",
      " [-9.20928720e-05 -4.51168653e-04 -5.51175396e-04 -7.58513492e-04]\n",
      " [-7.00440364e-05 -3.53254425e-04 -4.30925523e-04 -5.91669544e-04]\n",
      " [-4.97885050e-05 -2.33808060e-04 -2.85337700e-04 -3.88524436e-04]\n",
      " [-3.50233490e-05 -1.56897092e-04 -1.91851038e-04 -2.60856192e-04]\n",
      " [-2.59842434e-05 -1.08184507e-04 -1.32118271e-04 -1.77285325e-04]\n",
      " [-1.93116151e-05 -7.15658338e-05 -8.76811293e-05 -1.16347616e-04]\n",
      " [-1.40102117e-05 -4.88254348e-05 -5.98907377e-05 -7.88210127e-05]\n",
      " [-1.06114134e-05 -3.39726215e-05 -4.17905701e-05 -5.43171158e-05]\n",
      " [-8.11067186e-06 -2.32891551e-05 -2.86642262e-05 -3.65038729e-05]\n",
      " [-6.40707251e-06 -1.73978828e-05 -2.15057258e-05 -2.71981188e-05]\n",
      " [-5.38679922e-06 -1.36981730e-05 -1.69158516e-05 -2.10731959e-05]\n",
      " [-4.62477971e-06 -1.12289765e-05 -1.39080597e-05 -1.71246599e-05]\n",
      " [-4.20252021e-06 -9.60208959e-06 -1.19103637e-05 -1.44108537e-05]\n",
      " [-4.05888949e-06 -9.09396395e-06 -1.12519118e-05 -1.35301537e-05]\n",
      " [-4.13480757e-06 -9.05094717e-06 -1.12459171e-05 -1.34613365e-05]\n",
      " [-4.31422480e-06 -9.26359348e-06 -1.14587210e-05 -1.36113639e-05]\n",
      " [-4.64284501e-06 -9.43154426e-06 -1.16955604e-05 -1.36326508e-05]\n",
      " [-5.38688495e-06 -1.10015180e-05 -1.36431554e-05 -1.58582193e-05]\n",
      " [-6.31260436e-06 -1.31586258e-05 -1.63050767e-05 -1.91626741e-05]\n",
      " [-7.90115219e-06 -1.69911532e-05 -2.09939978e-05 -2.46781920e-05]\n",
      " [-1.00963661e-05 -2.05620511e-05 -2.53987266e-05 -2.93552697e-05]\n",
      " [-1.35338096e-05 -2.90428452e-05 -3.58603035e-05 -4.22119769e-05]\n",
      " [-1.83654028e-05 -4.23971983e-05 -5.22383919e-05 -6.24150505e-05]\n",
      " [-2.47011031e-05 -5.57488969e-05 -6.85744733e-05 -8.15129259e-05]\n",
      " [-3.24964596e-05 -6.65379025e-05 -8.23501033e-05 -9.53535832e-05]\n",
      " [-4.58120281e-05 -9.35214665e-05 -1.15674499e-04 -1.35234702e-04]\n",
      " [-5.80163685e-05 -1.02570225e-04 -1.27628071e-04 -1.43005698e-04]\n",
      " [-7.33125974e-05 -1.36216652e-04 -1.72515230e-04 -2.04476120e-04]\n",
      " [-6.91732201e-05 -9.70164981e-05 -1.31424605e-04 -1.56085423e-04]\n",
      " [-5.91114975e-05 -3.48533291e-05 -6.37725146e-05 -7.84084222e-05]\n",
      " [-2.73387582e-05  1.00310718e-04  7.89702469e-05  7.91916509e-05]\n",
      " [ 1.31140377e-05  2.50908185e-04  2.44970207e-04  2.58923567e-04]\n",
      " [ 9.05989332e-05  4.70977310e-04  4.74180487e-04  4.47959671e-04]\n",
      " [ 1.47730874e-04  6.35425508e-04  6.57867431e-04  6.28050097e-04]\n",
      " [ 1.70097004e-04  5.79709053e-04  5.59922378e-04  3.89580616e-04]\n",
      " [ 1.96179223e-04  5.40964142e-04  4.94097492e-04  2.17628881e-04]\n",
      " [ 2.00699042e-04  6.13042331e-04  5.97266326e-04  3.93017953e-04]\n",
      " [ 2.09174779e-04  4.46977971e-04  3.70637791e-04 -1.42824860e-06]\n",
      " [ 2.12799395e-04  5.43611123e-04  5.03640479e-04  2.25580811e-04]\n",
      " [ 1.79052264e-04  3.16436739e-04  2.31013843e-04 -1.59607401e-04]\n",
      " [ 1.88652219e-04  3.86852244e-04  3.05081801e-04 -6.44849497e-05]\n",
      " [ 1.62247033e-04  3.07978606e-04  2.20919454e-04 -1.64525059e-04]\n",
      " [ 1.66875071e-04  2.98573692e-04  2.04258907e-04 -1.72731443e-04]\n",
      " [ 1.19944558e-04  2.70188894e-04  1.95583517e-04 -1.30818033e-04]\n",
      " [ 8.99152464e-05  1.83793815e-04  1.04828670e-04 -2.22582473e-04]\n",
      " [ 3.63071965e-05  1.30494616e-04  4.22692943e-05 -2.43007584e-04]\n",
      " [ 3.72876324e-05  2.58270571e-04  2.16658207e-04  3.25675118e-05]\n",
      " [-2.50183231e-05  7.51434894e-05  1.20969331e-05 -1.87538895e-04]\n",
      " [-3.85814160e-05  1.18984923e-04  7.26373382e-05 -8.86019289e-05]\n",
      " [-6.21462771e-05  4.84426451e-05 -6.65272410e-06 -1.58919689e-04]\n",
      " [-1.12804188e-04 -1.16293233e-04 -1.89761577e-04 -3.70133440e-04]\n",
      " [-1.01203108e-04  5.43632685e-06 -2.92258524e-05 -1.03350794e-04]\n",
      " [-7.47549684e-05  2.33101082e-04  2.39738830e-04  2.89147546e-04]\n",
      " [-8.31233404e-05  3.43901871e-04  3.99788235e-04  5.78635159e-04]\n",
      " [-8.24366730e-05  1.14099854e-04  1.02244901e-04  1.00064755e-04]\n",
      " [-9.25427795e-05  3.45256472e-04  3.92153558e-04  5.63092809e-04]\n",
      " [-8.28121942e-05  4.40490671e-04  5.23978763e-04  7.67277602e-04]\n",
      " [-1.39315954e-04  5.06612376e-05  5.33518363e-05  1.11374968e-04]\n",
      " [-1.01867096e-04  1.65648717e-04  2.08048742e-04  3.01067383e-04]\n",
      " [-1.03383584e-04  2.81680688e-04  3.53508170e-04  5.27073331e-04]\n",
      " [-1.42446750e-04 -1.00938631e-04 -1.27284021e-04 -1.76515789e-04]\n",
      " [-8.02366735e-05  2.40776400e-04  3.19152674e-04  4.62780796e-04]\n",
      " [-1.14137515e-04  2.84051549e-04  3.88610179e-04  5.73781472e-04]\n",
      " [-1.34860508e-04  4.27568278e-05  1.12529548e-04  1.90994502e-04]\n",
      " [-1.27057274e-04  4.85832540e-05  1.45341734e-04  2.34841780e-04]\n",
      " [-1.27135110e-04  1.17619158e-04  2.45937465e-04  3.79114656e-04]\n",
      " [-9.54965055e-05  2.31788533e-04  3.93700915e-04  5.72494444e-04]\n",
      " [-1.18933163e-04  6.56056008e-05  2.18992102e-04  3.07829973e-04]\n",
      " [-1.43696004e-04 -1.31206547e-04  1.16088379e-06 -4.67449377e-06]\n",
      " [-1.20358803e-04 -9.84530920e-07  1.55121644e-04  2.31579930e-04]\n",
      " [-1.67911455e-04 -2.17088769e-04 -5.47012930e-05 -7.03921557e-05]\n",
      " [-1.73282889e-04 -2.95248044e-04 -1.44057205e-04 -2.23652975e-04]\n",
      " [-1.76456874e-04 -1.10726022e-04  9.69124824e-05  1.55785118e-04]\n",
      " [-1.99691340e-04 -4.04908427e-04 -2.32577136e-04 -3.45057310e-04]\n",
      " [-2.51429219e-04 -5.72769077e-04 -4.31165284e-04 -6.03111463e-04]\n",
      " [-2.34364564e-04 -3.55699656e-04 -1.25690982e-04 -1.94502086e-04]\n",
      " [-2.13624798e-04 -3.40570763e-04 -1.37916193e-04 -2.23821720e-04]\n",
      " [-2.23334942e-04 -4.78308494e-04 -2.97728566e-04 -4.41404883e-04]\n",
      " [-2.35216107e-04 -4.70878755e-04 -2.71740841e-04 -3.96583435e-04]\n",
      " [-2.55357999e-04 -4.02336784e-04 -1.71169304e-04 -2.32169941e-04]\n",
      " [-2.48574422e-04 -5.20613793e-04 -3.81166977e-04 -5.43702327e-04]\n",
      " [-1.79025079e-04 -2.39356548e-04 -5.88694587e-05 -1.25509695e-04]\n",
      " [-2.41940678e-04 -6.94917378e-04 -5.96427418e-04 -8.87164566e-04]\n",
      " [-1.62126383e-04 -1.82201235e-04 -1.53886468e-05 -1.47104859e-05]\n",
      " [-2.09220657e-04 -3.90787102e-04 -2.45795014e-04 -3.53657308e-04]\n",
      " [-2.78606816e-04 -3.83444033e-04 -2.35565301e-04 -2.30127665e-04]\n",
      " [-2.43058130e-04 -4.09194858e-04 -3.29836384e-04 -3.66893402e-04]\n",
      " [-2.66866375e-04 -1.65496216e-04 -2.97292812e-05  1.68349151e-04]\n",
      " [-2.91927599e-04 -5.17479460e-04 -5.16335724e-04 -5.09401701e-04]\n",
      " [-2.70553785e-04 -4.29918041e-04 -4.39221974e-04 -3.84930012e-04]\n",
      " [-2.41054553e-04 -4.26505020e-04 -4.53206611e-04 -4.26226261e-04]\n",
      " [-2.15404028e-04 -2.65776716e-04 -2.61641771e-04 -1.31913884e-04]\n",
      " [-1.73672787e-04 -1.76972151e-04 -1.68393969e-04 -3.78681573e-05]\n",
      " [-1.61366182e-04 -2.68284831e-04 -2.92938614e-04 -2.54979437e-04]\n",
      " [-1.35980095e-04 -2.34536851e-04 -2.51240638e-04 -2.11704586e-04]\n",
      " [-1.14721878e-04 -1.53432569e-04 -1.60037819e-04 -9.69423804e-05]\n",
      " [-1.02742737e-04 -1.09789474e-04 -1.09903582e-04 -3.19256993e-05]\n",
      " [-8.89800422e-05 -5.05542289e-05 -3.95637657e-05  6.11697442e-05]\n",
      " [-9.98999558e-05 -1.27074591e-04 -1.31396413e-04 -7.26823772e-05]\n",
      " [-9.91063279e-05 -1.35463803e-04 -1.45780297e-04 -9.65706759e-05]\n",
      " [-1.11796287e-04 -1.47870552e-04 -1.57059894e-04 -9.84365022e-05]\n",
      " [-1.18640215e-04 -1.80576442e-04 -1.96662912e-04 -1.52147930e-04]\n",
      " [-1.24654808e-04 -1.47456214e-04 -1.54070296e-04 -7.45831913e-05]\n",
      " [-1.28479865e-04 -8.16203463e-05 -7.21020492e-05  5.97796058e-05]\n",
      " [-1.63781340e-04 -9.13307415e-05 -8.16689108e-05  7.47499748e-05]\n",
      " [-1.96646898e-04 -2.00426574e-04 -2.04116665e-04 -6.88099133e-05]\n",
      " [-2.73433627e-04 -3.68246876e-04 -3.96412157e-04 -2.89142551e-04]\n",
      " [-2.83588518e-04 -4.02594372e-04 -4.42918147e-04 -3.81048569e-04]\n",
      " [-2.48976959e-04 -1.63440228e-04 -1.69656481e-04  2.39514837e-07]\n",
      " [-2.63089255e-04 -1.18687573e-04 -1.15076013e-04  5.21067395e-05]\n",
      " [-3.17338258e-04 -2.67497801e-04 -2.81052197e-04 -1.04071470e-04]\n",
      " [-2.42181530e-04 -9.54054052e-05 -9.50412345e-05  3.77675092e-05]\n",
      " [-2.13550035e-04 -2.47244673e-05 -1.97799557e-05  9.04007011e-05]\n",
      " [-1.62106957e-04  2.91305074e-04  3.40640432e-04  6.19328086e-04]\n",
      " [-2.00994841e-04  7.14936738e-05  9.98029934e-05  2.97456074e-04]\n",
      " [-2.25697916e-04  5.56308264e-05  7.68748561e-05  2.33387263e-04]\n",
      " [-1.72932994e-04  1.27748909e-04  1.41627961e-04  3.25750039e-04]\n",
      " [-2.44714078e-04 -3.99407771e-04 -4.86057008e-04 -5.88204456e-04]\n",
      " [-1.62452740e-04  3.10323903e-04  3.49309005e-04  5.70332049e-04]\n",
      " [-1.82713693e-04 -1.53550224e-04 -2.27280226e-04 -3.24063193e-04]\n",
      " [-1.63608838e-04 -1.53226563e-04 -1.74155784e-04 -2.05631812e-04]\n",
      " [-1.22571881e-04  1.81271177e-04  1.89680747e-04  2.73621850e-04]\n",
      " [-6.42107893e-05  2.65154822e-04  2.94995511e-04  3.82224585e-04]\n",
      " [-1.40982823e-04 -4.35809258e-04 -5.76875902e-04 -9.21380130e-04]\n",
      " [-6.76156828e-05  1.54536680e-04  1.81979765e-04  2.35033194e-04]\n",
      " [-1.13585597e-04  1.04099567e-04  1.05491253e-04  1.33993157e-04]\n",
      " [-7.24028768e-05 -7.17742713e-05 -8.33786330e-05 -1.78344901e-04]\n",
      " [-3.14434026e-05  2.78441525e-04  3.14768500e-04  3.85344334e-04]\n",
      " [-3.22260678e-05  2.57962079e-04  3.01901231e-04  3.81719778e-04]\n",
      " [-1.27238478e-05  4.00553975e-04  4.74437844e-04  6.22421805e-04]\n",
      " [-4.16115069e-05 -2.68952573e-05 -4.38626577e-05 -1.96644230e-04]\n",
      " [-7.92543680e-05 -6.47608697e-05 -9.49526008e-05 -2.19857799e-04]\n",
      " [-3.10620609e-05  1.23727394e-04  1.18915826e-04  2.20983288e-05]\n",
      " [-2.17983011e-05  1.41834336e-04  1.48636528e-04  1.03819504e-04]\n",
      " [-2.15713478e-05  2.11442246e-04  2.24209576e-04  2.03811160e-04]\n",
      " [ 4.90212510e-06  2.92646332e-04  3.16693177e-04  3.37475280e-04]\n",
      " [ 5.33278822e-06 -8.84978495e-07 -1.91735428e-05 -1.85196091e-04]\n",
      " [-1.17862494e-05  2.28609771e-04  2.58762302e-04  2.65530315e-04]\n",
      " [ 5.07700086e-06  2.83495978e-04  3.31705292e-04  3.79321043e-04]\n",
      " [ 2.98983336e-05  1.91555257e-04  2.04328229e-04  1.16003292e-04]\n",
      " [ 1.27695583e-05  4.36199797e-04  5.09157729e-04  6.19517496e-04]\n",
      " [ 4.99127763e-06  9.99592709e-05  9.84598275e-05  9.69330181e-06]\n",
      " [-3.01311380e-06  1.86465808e-04  1.94281212e-04  1.57459012e-04]\n",
      " [-1.13434222e-05  1.93686739e-06  1.48588108e-06 -1.09425495e-04]\n",
      " [ 1.44743247e-05 -3.95616753e-05 -6.02469456e-05 -2.41833891e-04]]\n"
     ]
    },
    {
     "name": "stdout",
     "output_type": "stream",
     "text": [
      "1\n",
      "2\n",
      "3\n",
      "4\n",
      "5\n",
      "6\n",
      "7\n",
      "8\n",
      "9\n",
      "10\n",
      "11\n",
      "12\n",
      "13\n",
      "14\n",
      "15\n",
      "16\n",
      "17\n",
      "18\n",
      "19\n",
      "20\n",
      "21\n",
      "22\n",
      "23\n",
      "24\n",
      "25\n",
      "1\n",
      "2\n",
      "3\n",
      "4\n",
      "5\n",
      "6\n",
      "7\n",
      "8\n",
      "9\n",
      "10\n",
      "11\n",
      "12\n",
      "13\n",
      "14\n",
      "15\n",
      "16\n",
      "17\n",
      "18\n",
      "19\n",
      "20\n",
      "21\n",
      "22\n",
      "23\n",
      "24\n",
      "25\n",
      "26\n",
      "27\n",
      "28\n",
      "29\n",
      "30\n",
      "31\n",
      "32\n",
      "33\n",
      "34\n",
      "35\n",
      "36\n",
      "37\n",
      "38\n",
      "39\n",
      "40\n",
      "41\n",
      "42\n",
      "43\n",
      "44\n",
      "45\n",
      "46\n",
      "47\n",
      "48\n",
      "49\n",
      "50\n",
      "51\n",
      "52\n",
      "53\n",
      "54\n",
      "55\n",
      "56\n",
      "57\n",
      "58\n",
      "59\n",
      "60\n",
      "61\n",
      "62\n",
      "63\n",
      "64\n",
      "65\n",
      "66\n",
      "67\n",
      "68\n",
      "1\n",
      "2\n",
      "3\n",
      "4\n",
      "5\n",
      "6\n",
      "7\n",
      "8\n",
      "9\n",
      "10\n",
      "11\n",
      "12\n",
      "13\n",
      "14\n",
      "15\n",
      "16\n",
      "17\n",
      "18\n",
      "19\n",
      "20\n",
      "21\n",
      "22\n",
      "23\n",
      "24\n",
      "25\n",
      "26\n",
      "27\n",
      "28\n",
      "29\n",
      "30\n",
      "31\n",
      "32\n",
      "33\n",
      "34\n",
      "35\n",
      "36\n",
      "37\n",
      "38\n",
      "39\n",
      "40\n",
      "41\n",
      "42\n",
      "43\n",
      "44\n",
      "45\n",
      "46\n",
      "47\n",
      "48\n",
      "49\n",
      "50\n",
      "51\n",
      "52\n",
      "53\n",
      "54\n",
      "55\n",
      "56\n",
      "57\n",
      "58\n",
      "59\n",
      "60\n",
      "61\n",
      "62\n",
      "63\n",
      "64\n",
      "65\n",
      "66\n",
      "67\n",
      "68\n",
      "69\n",
      "1\n",
      "2\n",
      "3\n",
      "4\n",
      "5\n",
      "6\n",
      "7\n",
      "8\n",
      "9\n",
      "10\n",
      "11\n",
      "12\n",
      "13\n",
      "14\n",
      "15\n",
      "16\n",
      "17\n",
      "18\n",
      "19\n",
      "20\n",
      "21\n",
      "22\n",
      "23\n",
      "24\n",
      "25\n",
      "26\n",
      "27\n",
      "28\n",
      "29\n",
      "30\n",
      "31\n",
      "32\n",
      "33\n",
      "34\n",
      "35\n",
      "36\n",
      "37\n",
      "38\n",
      "39\n",
      "40\n",
      "41\n",
      "42\n",
      "43\n",
      "44\n",
      "45\n",
      "46\n",
      "47\n",
      "48\n",
      "49\n"
     ]
    },
    {
     "data": {
      "text/plain": [
       "array([[-1.71734083e-03,  9.89246839e-03,  1.03132041e-02,\n",
       "         1.23950958e-02],\n",
       "       [-1.18750786e-03,  7.82790568e-04,  1.56385213e-04,\n",
       "         4.86985132e-03],\n",
       "       [ 3.42615075e-03, -1.02674075e-03, -1.02432021e-03,\n",
       "        -2.68402298e-03],\n",
       "       [ 7.20459942e-03,  1.16306226e-02,  1.14398455e-02,\n",
       "         1.27104444e-02],\n",
       "       [-7.45358004e-03, -9.26351554e-03, -1.07302614e-02,\n",
       "        -1.32082506e-02],\n",
       "       [-5.35992939e-05,  4.69698462e-03,  5.35924092e-03,\n",
       "         4.86090170e-03],\n",
       "       [-3.99197872e-03, -2.46572486e-02, -2.43193644e-02,\n",
       "        -2.73214854e-02],\n",
       "       [-7.82281660e-04, -1.22765531e-02, -1.35454735e-02,\n",
       "        -1.57319221e-02],\n",
       "       [-4.14575962e-03, -1.20971538e-03, -1.06979268e-03,\n",
       "         3.54833732e-03],\n",
       "       [-4.11097072e-03,  2.33337829e-03,  4.83267762e-03,\n",
       "         5.30653152e-03],\n",
       "       [-1.76870631e-03, -1.16439795e-02, -1.02689563e-02,\n",
       "        -1.66622433e-02],\n",
       "       [ 1.59799088e-03, -2.44734705e-04, -2.91311070e-03,\n",
       "         6.58070506e-04],\n",
       "       [-3.36570187e-03,  6.10988344e-03,  8.05033884e-03,\n",
       "         6.47213300e-03],\n",
       "       [ 5.72774430e-03,  9.66649534e-03,  9.75528203e-03,\n",
       "         7.59290622e-03],\n",
       "       [ 3.43186495e-03,  8.57452245e-03,  7.95537388e-03,\n",
       "         1.34069947e-02],\n",
       "       [-6.23523417e-03, -9.91955527e-03, -1.07810191e-02,\n",
       "        -8.08606779e-03],\n",
       "       [ 1.43725371e-04,  3.73257862e-03,  5.88380458e-03,\n",
       "        -2.72635270e-03],\n",
       "       [ 1.09977496e-02,  8.14801062e-03,  6.91746106e-03,\n",
       "         8.93676063e-03],\n",
       "       [ 1.19617923e-02,  2.26617417e-02,  2.30876811e-02,\n",
       "         2.14672016e-02],\n",
       "       [ 6.51165526e-03,  9.20595053e-03,  7.48456234e-03,\n",
       "         1.14934397e-02],\n",
       "       [-3.76319982e-03, -1.27646808e-02, -1.48119694e-02,\n",
       "        -1.11709795e-02],\n",
       "       [ 6.60781630e-03,  2.64226852e-03,  3.54727786e-03,\n",
       "         2.20057488e-03],\n",
       "       [-6.35775849e-03,  1.37419198e-03,  2.85717324e-03,\n",
       "        -1.13347530e-03],\n",
       "       [ 6.60920247e-04,  1.24669951e-02,  1.44622190e-02,\n",
       "         1.36959226e-02],\n",
       "       [-4.52756998e-03, -1.36635882e-02, -1.37316204e-02,\n",
       "        -1.60150879e-02],\n",
       "       [ 2.22335900e-03,  1.76187530e-03, -2.38614997e-04,\n",
       "         3.44419828e-03],\n",
       "       [-9.32795914e-03, -1.66440772e-02, -1.65749026e-02,\n",
       "        -1.76127092e-02],\n",
       "       [ 1.63567211e-03, -1.07592479e-02, -1.20572868e-02,\n",
       "        -1.56803453e-02],\n",
       "       [ 3.87607357e-03,  1.14804852e-02,  9.84606579e-03,\n",
       "         1.05266826e-02],\n",
       "       [-9.01941575e-03, -1.62917001e-02, -1.51365370e-02,\n",
       "        -1.22248721e-02],\n",
       "       [-3.20594419e-03, -5.86271476e-03, -8.14642199e-03,\n",
       "         3.63993212e-04],\n",
       "       [ 5.12837325e-03, -5.71274818e-04, -1.18402542e-03,\n",
       "        -2.33309190e-03],\n",
       "       [-1.50092848e-03,  5.17396227e-03,  5.79266321e-03,\n",
       "         8.61048309e-03],\n",
       "       [ 1.81128474e-03,  3.63394525e-03,  5.55640468e-03,\n",
       "         4.35723282e-03],\n",
       "       [-4.66157368e-04, -7.26489474e-03, -5.98602115e-03,\n",
       "        -7.46514336e-03],\n",
       "       [-1.91757263e-04, -8.79791674e-03, -7.79053988e-03,\n",
       "        -7.91652427e-03],\n",
       "       [-4.73802537e-03, -1.10339914e-02, -1.05054103e-02,\n",
       "        -1.43217950e-02],\n",
       "       [-1.08575094e-02,  5.14509457e-03,  5.68152642e-03,\n",
       "         7.29330569e-03],\n",
       "       [-1.15838046e-02, -2.18357601e-02, -2.44324983e-02,\n",
       "        -2.14060773e-02],\n",
       "       [ 7.03454684e-05,  6.53281023e-03,  1.01738358e-02,\n",
       "         6.93169043e-03],\n",
       "       [ 3.85608659e-03,  7.75608637e-03,  7.34044818e-03,\n",
       "         9.17357816e-03],\n",
       "       [ 8.05377653e-03,  2.21440567e-02,  2.42400542e-02,\n",
       "         2.40392182e-02],\n",
       "       [ 8.79110058e-06, -2.12800406e-03, -4.08095901e-03,\n",
       "        -2.61704171e-03],\n",
       "       [-5.85427614e-03, -1.44089200e-02, -1.45123482e-02,\n",
       "        -1.58585063e-02],\n",
       "       [ 3.19284789e-04, -2.49979038e-03, -2.54345664e-03,\n",
       "        -1.97997629e-03],\n",
       "       [ 5.90277859e-03,  9.24539175e-03,  9.87717860e-03,\n",
       "         1.09823438e-02],\n",
       "       [ 5.24027639e-03,  9.67549795e-03,  8.70080174e-03,\n",
       "         1.00281538e-02],\n",
       "       [-2.88925114e-04,  6.62140210e-03,  7.44235858e-03,\n",
       "         5.84661979e-03],\n",
       "       [ 4.02199585e-04, -1.22044317e-02, -1.15275568e-02,\n",
       "        -1.71371287e-02],\n",
       "       [-9.97323696e-04, -8.95186004e-03, -9.12840396e-03,\n",
       "        -7.58531030e-03],\n",
       "       [ 4.84505013e-03,  7.74067424e-03,  5.48102935e-03,\n",
       "         4.28548256e-03],\n",
       "       [-8.51738199e-03, -1.38820699e-02, -1.43667945e-02,\n",
       "        -1.29163735e-02],\n",
       "       [ 3.48243972e-03,  2.55439651e-03,  2.91645678e-03,\n",
       "         4.87302057e-03],\n",
       "       [-6.37883161e-04, -2.83832318e-03, -2.96440802e-03,\n",
       "        -4.74974578e-03],\n",
       "       [ 7.60980339e-04,  1.76895160e-03,  1.93637618e-03,\n",
       "         5.42368170e-04],\n",
       "       [ 9.66473166e-04,  2.02591602e-03,  1.29672903e-03,\n",
       "         2.40089947e-03],\n",
       "       [-3.06826791e-03, -5.01780852e-03, -5.57816595e-03,\n",
       "        -3.16609809e-03],\n",
       "       [-2.76277459e-03, -3.87692702e-03, -3.65382482e-03,\n",
       "        -3.39598068e-03],\n",
       "       [-3.99171025e-05,  3.38330351e-03,  3.78365222e-03,\n",
       "         4.53416429e-03],\n",
       "       [ 1.44062423e-03,  6.79360915e-04,  8.70147269e-04,\n",
       "         3.88426682e-04],\n",
       "       [-7.45447628e-04,  1.07813642e-03,  1.48881551e-03,\n",
       "         3.00161987e-04],\n",
       "       [-3.55815065e-04, -1.20399921e-03, -1.22753806e-03,\n",
       "        -2.31922949e-03],\n",
       "       [ 7.69101816e-04, -3.71182798e-04, -9.02663279e-04,\n",
       "         8.63965932e-04],\n",
       "       [ 4.97203952e-04,  1.73396592e-03,  2.04898881e-03,\n",
       "         1.81910631e-03],\n",
       "       [-5.98990572e-04, -3.48246653e-03, -3.68708440e-03,\n",
       "        -3.45845903e-03],\n",
       "       [-1.29379155e-04,  5.17584947e-05,  3.15199865e-04,\n",
       "        -3.12778734e-04],\n",
       "       [-7.91368849e-04,  5.91878277e-04,  4.62386292e-04,\n",
       "         5.36981429e-04],\n",
       "       [ 1.11694182e-03,  1.82622703e-03,  1.81738397e-03,\n",
       "         1.21972476e-03],\n",
       "       [-1.71201320e-04, -4.85360370e-04, -6.69481839e-04,\n",
       "        -8.17081234e-05],\n",
       "       [-6.08730803e-04, -1.16074176e-03, -1.37313421e-03,\n",
       "        -1.27189305e-03],\n",
       "       [-1.59910953e-03, -1.74637037e-03, -1.83029118e-03,\n",
       "        -1.07554461e-03],\n",
       "       [ 2.32212523e-03,  4.39499715e-03,  4.78278912e-03,\n",
       "         4.05014826e-03],\n",
       "       [ 2.57772941e-04, -5.56975394e-04, -4.41276580e-04,\n",
       "        -7.05410302e-04],\n",
       "       [-1.16407903e-03, -6.63976127e-04, -2.97501010e-04,\n",
       "         6.30226378e-04],\n",
       "       [-6.57114529e-04, -7.46263078e-04, -5.83201196e-04,\n",
       "        -9.93219747e-04],\n",
       "       [-2.14320168e-05, -1.09259554e-03, -1.16327102e-03,\n",
       "        -1.02257575e-03],\n",
       "       [ 6.29689194e-05, -1.15942641e-03, -1.13119551e-03,\n",
       "        -1.97742616e-03],\n",
       "       [ 2.86181664e-04, -1.10686421e-03, -1.67349726e-03,\n",
       "        -2.17430307e-03],\n",
       "       [-3.79338260e-04,  1.89439297e-03,  2.44357979e-03,\n",
       "         1.67663698e-03],\n",
       "       [ 3.23194651e-03,  5.13700596e-03,  4.62185962e-03,\n",
       "         4.10694723e-03],\n",
       "       [-2.26627641e-03, -5.47440393e-03, -6.00297141e-03,\n",
       "        -3.67182480e-03],\n",
       "       [ 6.91934747e-03,  3.50291235e-03,  3.14459239e-03,\n",
       "         1.22609782e-03],\n",
       "       [ 2.56991119e-04,  6.42094651e-04, -5.04171318e-05,\n",
       "        -8.86224911e-04],\n",
       "       [ 4.08151176e-03,  6.46521962e-03,  5.28105490e-03,\n",
       "         7.72707839e-03],\n",
       "       [ 3.46634195e-04,  6.04494178e-03,  5.28647857e-03,\n",
       "         4.45367754e-03],\n",
       "       [-6.94773671e-03,  1.96255531e-03,  4.17104949e-03,\n",
       "         5.65696418e-03],\n",
       "       [ 2.60129976e-03,  8.02829866e-03,  8.23184513e-03,\n",
       "         6.69707149e-03],\n",
       "       [-5.23963770e-03, -2.16479802e-03, -3.42191192e-03,\n",
       "         1.13835486e-03],\n",
       "       [-3.55276548e-03, -8.78229216e-03, -8.65962570e-03,\n",
       "        -1.30569385e-02],\n",
       "       [ 2.88530573e-03,  2.53498400e-03,  2.28687025e-03,\n",
       "         1.96185079e-03],\n",
       "       [ 1.96093918e-03, -7.23439013e-04,  5.45454692e-04,\n",
       "         2.04876138e-03],\n",
       "       [ 3.45486900e-03, -4.00295506e-03, -7.95783213e-03,\n",
       "        -7.61141704e-03],\n",
       "       [ 2.79127093e-04,  1.27633022e-03,  2.26199328e-03,\n",
       "         3.74299081e-03],\n",
       "       [-7.45604542e-03, -3.85311840e-03, -1.10095235e-03,\n",
       "         3.99897952e-04],\n",
       "       [ 4.04327264e-04, -5.07408038e-03, -6.70751482e-03,\n",
       "        -2.57685788e-03],\n",
       "       [-3.94484418e-03, -1.21404650e-02, -1.23140673e-02,\n",
       "        -1.75007260e-02],\n",
       "       [ 3.19769699e-03,  7.89202923e-03,  9.70353611e-03,\n",
       "         5.28939547e-03],\n",
       "       [-1.99756252e-03,  6.74155124e-03,  8.17575187e-03,\n",
       "         6.25772192e-03],\n",
       "       [-1.31773561e-02, -2.09471242e-02, -2.01972940e-02,\n",
       "        -2.19106937e-02],\n",
       "       [ 6.12978833e-03,  1.00917345e-02,  7.50863527e-03,\n",
       "         1.43985406e-02],\n",
       "       [ 7.74781609e-03,  1.86365962e-02,  1.76383778e-02,\n",
       "         1.93766469e-02],\n",
       "       [ 2.55342247e-03, -7.54122709e-04, -1.57643804e-03,\n",
       "         4.08546464e-03],\n",
       "       [-3.10418048e-03, -1.80889107e-02, -1.95689759e-02,\n",
       "        -1.93196152e-02],\n",
       "       [ 6.28388422e-03,  1.92983470e-02,  2.07652143e-02,\n",
       "         1.54206012e-02],\n",
       "       [-6.78823253e-03, -2.55774828e-03, -1.70357967e-03,\n",
       "        -3.20077675e-03],\n",
       "       [ 5.30047250e-04,  8.07799660e-03,  8.96983862e-03,\n",
       "         6.38726019e-03],\n",
       "       [ 4.62090581e-03,  2.59541486e-03,  5.16781861e-03,\n",
       "         3.73106868e-03],\n",
       "       [-7.06144549e-04,  6.66817482e-03,  5.91868674e-03,\n",
       "         9.92333253e-03],\n",
       "       [ 1.03815414e-02,  8.55355994e-03,  8.36712219e-03,\n",
       "         6.78800075e-03],\n",
       "       [ 9.36158940e-03,  1.02047480e-03, -1.29814806e-03,\n",
       "         9.25937705e-04],\n",
       "       [-2.88921197e-04,  3.30313267e-03,  3.88500137e-03,\n",
       "         6.04676548e-04],\n",
       "       [ 8.14627265e-03,  9.72597902e-03,  1.06124747e-02,\n",
       "         9.62310346e-03],\n",
       "       [ 4.09994164e-03,  9.66721788e-03,  9.77077779e-03,\n",
       "         1.13413302e-02],\n",
       "       [-3.74719813e-03, -6.01957642e-03, -6.25167762e-03,\n",
       "        -5.82956141e-03],\n",
       "       [-2.26457958e-03, -6.27346516e-03, -5.68801559e-03,\n",
       "        -7.97587433e-03],\n",
       "       [ 7.41108994e-03,  5.37440939e-03,  5.67196296e-03,\n",
       "         1.27972456e-03],\n",
       "       [ 8.48848117e-03,  1.45107263e-02,  1.31241635e-02,\n",
       "         1.43955194e-02],\n",
       "       [ 1.82991564e-03,  2.26816905e-03,  1.77166912e-03,\n",
       "         2.48782561e-03],\n",
       "       [-2.58198242e-03,  4.58491834e-04,  5.91248990e-04,\n",
       "         3.20103025e-03],\n",
       "       [ 4.50567375e-03,  2.22136513e-03,  3.33978942e-03,\n",
       "         3.62195019e-03],\n",
       "       [ 6.46631539e-03, -9.16325063e-03, -1.01144695e-02,\n",
       "        -1.34930875e-02],\n",
       "       [-2.13386852e-03,  6.29491253e-03,  8.49774323e-03,\n",
       "         2.76356435e-03],\n",
       "       [ 5.27574593e-04, -9.38275498e-03, -8.53789938e-03,\n",
       "        -6.21861432e-03],\n",
       "       [-3.46849329e-03,  3.93958362e-05, -1.40277385e-03,\n",
       "         1.91464648e-03],\n",
       "       [ 3.42582071e-04,  9.60177390e-04,  1.37385225e-03,\n",
       "         4.40825866e-03],\n",
       "       [ 3.81833201e-03,  8.61242953e-03,  7.99738097e-03,\n",
       "         3.31684521e-03],\n",
       "       [-6.70612986e-03, -1.59060467e-02, -1.55781009e-02,\n",
       "        -1.54599314e-02],\n",
       "       [-3.03054828e-03, -1.92032094e-03, -2.76619552e-03,\n",
       "        -1.76379395e-03],\n",
       "       [ 6.49858238e-03,  9.17348506e-03,  7.93576292e-03,\n",
       "         5.87527631e-03],\n",
       "       [ 3.60974129e-03,  1.03612548e-02,  1.04795961e-02,\n",
       "         1.25801039e-02],\n",
       "       [ 1.19910001e-03, -1.16663923e-03, -4.51580236e-04,\n",
       "        -4.29216570e-03],\n",
       "       [ 1.45111210e-03,  1.17725146e-02,  1.26564107e-02,\n",
       "         1.03945502e-02],\n",
       "       [-1.44266757e-02, -2.45625824e-02, -2.54741004e-02,\n",
       "        -2.25586795e-02],\n",
       "       [-1.76497303e-03, -7.21506177e-03, -6.82193697e-03,\n",
       "        -5.48433414e-03],\n",
       "       [ 2.91485148e-03,  9.34937061e-03,  9.52505108e-03,\n",
       "         1.03186964e-02],\n",
       "       [-1.01755164e-04, -9.80184383e-03, -9.69592677e-03,\n",
       "        -8.15387536e-03],\n",
       "       [-3.67920408e-05,  1.17379642e-02,  1.24626446e-02,\n",
       "         1.53301473e-02],\n",
       "       [-8.11578941e-04, -1.16182806e-02, -1.26352046e-02,\n",
       "        -1.52693978e-02],\n",
       "       [-6.02563429e-03,  6.12374599e-03,  7.75164989e-03,\n",
       "         5.37871756e-03],\n",
       "       [ 6.04915166e-04,  3.98994115e-03,  4.84068920e-03,\n",
       "         5.92291526e-03],\n",
       "       [-1.32633045e-03, -8.13991263e-03, -8.44593255e-03,\n",
       "        -5.81682831e-03],\n",
       "       [ 9.80979097e-03,  9.93274650e-03,  9.35079473e-03,\n",
       "         8.77731707e-03],\n",
       "       [ 3.06037063e-03,  6.02718943e-03,  4.93573473e-03,\n",
       "         5.61979722e-03],\n",
       "       [-2.27006062e-03, -6.01417401e-03, -6.11922937e-03,\n",
       "        -5.67189499e-03],\n",
       "       [-1.02113367e-02, -2.11156592e-02, -2.17011615e-02,\n",
       "        -2.18041436e-02],\n",
       "       [ 3.21312567e-03,  2.67270037e-03,  2.83937807e-03,\n",
       "         1.64682926e-03],\n",
       "       [ 1.22784967e-02,  2.30197235e-02,  2.17841073e-02,\n",
       "         2.45587984e-02],\n",
       "       [ 8.69840015e-04,  1.79455439e-03,  2.13707145e-03,\n",
       "        -1.09787068e-03],\n",
       "       [-7.92288170e-03, -1.15007957e-02, -1.21051755e-02,\n",
       "        -1.08191815e-02],\n",
       "       [ 1.05142421e-03,  8.39359617e-03,  8.84370179e-03,\n",
       "         8.24643096e-03],\n",
       "       [-6.90497607e-04,  1.38167378e-03,  2.36282630e-03,\n",
       "        -2.05136601e-03],\n",
       "       [-2.28540748e-03, -6.23270767e-03, -7.57918672e-03,\n",
       "        -4.79968275e-03],\n",
       "       [ 2.89356582e-04,  3.82155468e-03,  4.65038256e-03,\n",
       "         8.23177225e-03],\n",
       "       [ 1.65580990e-03,  1.04174401e-03,  5.92356220e-04,\n",
       "         1.00528327e-03],\n",
       "       [ 4.62459163e-03,  6.66405647e-03,  7.31895545e-03,\n",
       "         7.14074422e-03],\n",
       "       [-2.75786535e-04, -3.93738911e-03, -4.07096249e-03,\n",
       "        -4.48177058e-03],\n",
       "       [-5.09623547e-03, -2.40432790e-03, -8.30635232e-04,\n",
       "        -6.73803876e-05],\n",
       "       [-3.10147760e-03, -7.51814727e-03, -7.82230970e-03,\n",
       "        -1.53191001e-02],\n",
       "       [ 6.64771048e-03,  9.41028141e-03,  9.44730418e-03,\n",
       "         9.10777287e-03],\n",
       "       [ 5.93573055e-04, -6.20273493e-03, -6.10649756e-03,\n",
       "        -7.82980553e-03],\n",
       "       [-1.42256199e-03, -2.88272449e-03, -3.22980459e-03,\n",
       "        -1.95206402e-03],\n",
       "       [ 5.05052810e-03,  4.19594593e-03,  2.42860270e-03,\n",
       "         9.10997206e-03],\n",
       "       [-7.93317710e-03, -1.48020154e-02, -1.48408526e-02,\n",
       "        -1.16874272e-02],\n",
       "       [-1.44509053e-03,  3.19407615e-03,  4.03599661e-03,\n",
       "         6.25933499e-03],\n",
       "       [-1.90268564e-03, -6.12185135e-03, -6.60992433e-03,\n",
       "        -6.73295056e-03],\n",
       "       [ 3.66867157e-03, -7.84581688e-04, -1.26153755e-03,\n",
       "        -3.63899896e-03],\n",
       "       [-1.12404373e-03, -9.01478399e-03, -9.22014811e-03,\n",
       "        -5.52855569e-03],\n",
       "       [-1.46777545e-03, -6.19005373e-03, -7.72984596e-03,\n",
       "        -6.10781330e-03],\n",
       "       [ 2.10109553e-03,  9.52591087e-03,  1.02308143e-02,\n",
       "         9.42725737e-03],\n",
       "       [ 7.75878264e-03,  8.70721404e-03,  9.02504192e-03,\n",
       "         6.46581646e-03],\n",
       "       [-3.16872352e-03, -5.41500385e-03, -4.67401158e-03,\n",
       "        -7.61924018e-03],\n",
       "       [-6.73222602e-03, -1.51024162e-02, -1.63950301e-02,\n",
       "        -1.59585562e-02],\n",
       "       [ 2.77751062e-03,  1.16343080e-02,  1.14722773e-02,\n",
       "         1.26604676e-02],\n",
       "       [-1.23963686e-03, -6.81220659e-06,  2.60731361e-03,\n",
       "        -1.71852060e-03],\n",
       "       [-6.03435410e-03, -1.05257319e-02, -9.97860682e-03,\n",
       "        -9.58511476e-03],\n",
       "       [ 5.99180900e-03,  9.69042999e-03,  9.75348458e-03,\n",
       "         8.19843483e-03],\n",
       "       [ 1.30687311e-03,  7.06240444e-03,  7.98643098e-03,\n",
       "         6.09352999e-03],\n",
       "       [-1.56528798e-03, -1.25603753e-02, -1.36631837e-02,\n",
       "        -1.19147216e-02],\n",
       "       [-4.52951325e-03, -1.20433839e-02, -9.57879704e-03,\n",
       "        -1.77559248e-02],\n",
       "       [ 5.57065520e-03,  8.61056893e-03,  7.62976074e-03,\n",
       "         1.24284311e-02],\n",
       "       [ 1.80742804e-03, -9.32112776e-03, -1.08069797e-02,\n",
       "        -8.68190945e-03],\n",
       "       [ 7.27895051e-03,  1.00940994e-02,  1.02906110e-02,\n",
       "         3.46280789e-03],\n",
       "       [ 2.07739270e-03,  1.49717859e-02,  1.46035169e-02,\n",
       "         1.72859566e-02],\n",
       "       [-9.53116499e-03, -1.30461873e-02, -1.35216882e-02,\n",
       "        -1.58232404e-02],\n",
       "       [-1.70945801e-03, -7.02951641e-03, -7.88104717e-03,\n",
       "        -9.24003861e-03],\n",
       "       [-2.89414880e-03, -7.65718932e-03, -7.53735097e-03,\n",
       "        -5.28073194e-03],\n",
       "       [-2.93579272e-03, -3.85468417e-04,  1.28975480e-03,\n",
       "        -1.97801101e-03],\n",
       "       [-1.01222892e-02, -1.35994179e-02, -1.46777639e-02,\n",
       "        -1.31144425e-02],\n",
       "       [ 6.11441223e-03,  1.55451740e-02,  1.63618301e-02,\n",
       "         2.16283796e-02],\n",
       "       [-9.94528698e-03, -5.20113940e-03, -5.24503291e-03,\n",
       "        -1.12164199e-03],\n",
       "       [ 5.82339084e-03,  5.05509300e-03,  4.23096505e-03,\n",
       "         8.33943761e-03],\n",
       "       [-2.22567259e-03, -9.88453623e-03, -1.16299128e-02,\n",
       "        -9.93031667e-03],\n",
       "       [ 2.99835818e-03,  3.79145677e-03,  4.01970029e-03,\n",
       "         8.72597247e-03],\n",
       "       [ 3.55293107e-03,  1.32550123e-02,  1.29715374e-02,\n",
       "         1.24947825e-02],\n",
       "       [ 4.66134837e-03,  6.40782541e-03,  5.68692381e-03,\n",
       "         8.09067988e-03],\n",
       "       [-1.13562061e-03,  9.40096886e-03,  1.12320411e-02,\n",
       "         1.24426054e-02],\n",
       "       [-3.72107912e-03,  4.82356544e-03,  5.17870023e-03,\n",
       "         1.16819792e-03],\n",
       "       [ 3.46467518e-03,  7.83611635e-03,  8.10477160e-03,\n",
       "         8.90478853e-03],\n",
       "       [-1.16266466e-03, -3.84800489e-04, -5.92400517e-05,\n",
       "        -3.22248428e-03],\n",
       "       [-5.26005702e-03, -1.32872547e-02, -1.27616220e-02,\n",
       "        -1.42166471e-02]])"
      ]
     },
     "execution_count": 16,
     "metadata": {},
     "output_type": "execute_result"
    }
   ],
   "source": [
    "# Load flat data \n",
    "datan = ps.read_csv(\"../data/Glass_df.csv\")\n",
    "X = datan.values[:,100:300]\n",
    "y = datan.values[:,2]\n",
    "        \n",
    "# Now compare\n",
    "rcr = ppdire(projection_index = dicomo, \n",
    "                    pi_arguments = {'mode' : 'continuum'}, \n",
    "                    n_components=4, \n",
    "                    trimming=.1, \n",
    "                    alpha=.5, \n",
    "                    compression = False, \n",
    "                    optimizer='grid',\n",
    "                    optimizer_options={'ndir':1000,'maxiter':1000})\n",
    "rcr.fit(X,y)\n",
    "print(rcr.coef_)\n",
    "        \n",
    "rcr = ppdire(projection_index = dicomo, \n",
    "                    pi_arguments = {'mode' : 'continuum'}, \n",
    "                    n_components=4, \n",
    "                    trimming=.1, \n",
    "                    alpha=.5, \n",
    "                    compression = True, \n",
    "                    optimizer='grid',\n",
    "                    optimizer_options={'ndir':1000,'maxiter':1000})\n",
    "rcr.fit(X,y)\n",
    "rcr.coef_"
   ]
  },
  {
   "cell_type": "markdown",
   "metadata": {},
   "source": [
    "6\\. Computation Time Comparisons\n",
    "=================================="
   ]
  },
  {
   "cell_type": "code",
   "execution_count": 18,
   "metadata": {},
   "outputs": [
    {
     "name": "stdout",
     "output_type": "stream",
     "text": [
      "Running 50 cases, 1 LVs, 2 dimensions\n",
      "Running 50 cases, 1 LVs, 20 dimensions\n",
      "1\n",
      "2\n",
      "Running 50 cases, 3 LVs, 20 dimensions\n",
      "1\n",
      "2\n",
      "1\n",
      "2\n",
      "1\n",
      "2\n",
      "Running 50 cases, 5 LVs, 20 dimensions\n",
      "1\n",
      "2\n",
      "1\n",
      "2\n",
      "3\n",
      "4\n",
      "5\n",
      "1\n",
      "2\n",
      "3\n",
      "4\n",
      "5\n",
      "1\n",
      "2\n",
      "3\n",
      "4\n",
      "5\n",
      "1\n",
      "2\n",
      "Running 50 cases, 1 LVs, 200 dimensions\n",
      "1\n",
      "2\n",
      "3\n",
      "4\n",
      "5\n",
      "6\n",
      "7\n",
      "8\n",
      "9\n",
      "10\n",
      "11\n",
      "Running 50 cases, 3 LVs, 200 dimensions\n",
      "1\n",
      "2\n",
      "1\n",
      "2\n",
      "1\n",
      "2\n",
      "3\n",
      "4\n",
      "5\n",
      "6\n",
      "7\n",
      "8\n",
      "9\n",
      "10\n",
      "11\n",
      "Running 50 cases, 5 LVs, 200 dimensions\n"
     ]
    },
    {
     "ename": "ValueError",
     "evalue": "illegal value in 4th argument of internal gesdd",
     "output_type": "error",
     "traceback": [
      "\u001b[1;31m---------------------------------------------------------------------------\u001b[0m",
      "\u001b[1;31mValueError\u001b[0m                                Traceback (most recent call last)",
      "Cell \u001b[1;32mIn[18], line 25\u001b[0m\n\u001b[0;32m     23\u001b[0m t1 \u001b[38;5;241m=\u001b[39m timeit\u001b[38;5;241m.\u001b[39mtime\u001b[38;5;241m.\u001b[39mtime()\n\u001b[0;32m     24\u001b[0m pppca \u001b[38;5;241m=\u001b[39m ppdire(projection_index \u001b[38;5;241m=\u001b[39m dicomo, pi_arguments \u001b[38;5;241m=\u001b[39m {\u001b[38;5;124m'\u001b[39m\u001b[38;5;124mmode\u001b[39m\u001b[38;5;124m'\u001b[39m : \u001b[38;5;124m'\u001b[39m\u001b[38;5;124mvar\u001b[39m\u001b[38;5;124m'\u001b[39m}, n_components\u001b[38;5;241m=\u001b[39ml, optimizer\u001b[38;5;241m=\u001b[39m\u001b[38;5;124m'\u001b[39m\u001b[38;5;124mSLSQP\u001b[39m\u001b[38;5;124m'\u001b[39m, trimming\u001b[38;5;241m=\u001b[39m\u001b[38;5;241m.1\u001b[39m, soft_trim\u001b[38;5;241m=\u001b[39m\u001b[38;5;28;01mTrue\u001b[39;00m)\n\u001b[1;32m---> 25\u001b[0m pppca\u001b[38;5;241m.\u001b[39mfit(data)\n\u001b[0;32m     26\u001b[0m t1 \u001b[38;5;241m=\u001b[39m timeit\u001b[38;5;241m.\u001b[39mtime\u001b[38;5;241m.\u001b[39mtime() \u001b[38;5;241m-\u001b[39m t1\n\u001b[0;32m     27\u001b[0m t2 \u001b[38;5;241m=\u001b[39m timeit\u001b[38;5;241m.\u001b[39mtime\u001b[38;5;241m.\u001b[39mtime()\n",
      "File \u001b[1;32m~\\AppData\\Local\\anaconda3\\Lib\\site-packages\\direpack\\ppdire\\ppdire.py:684\u001b[0m, in \u001b[0;36mppdire.fit\u001b[1;34m(self, X, *args, **kwargs)\u001b[0m\n\u001b[0;32m    681\u001b[0m E \u001b[38;5;241m-\u001b[39m\u001b[38;5;241m=\u001b[39m ti\u001b[38;5;241m*\u001b[39mpi\u001b[38;5;241m.\u001b[39mT\n\u001b[0;32m    683\u001b[0m \u001b[38;5;66;03m# Calculate R-Weights\u001b[39;00m\n\u001b[1;32m--> 684\u001b[0m R \u001b[38;5;241m=\u001b[39m np\u001b[38;5;241m.\u001b[39mdot(W[:, \u001b[38;5;241m0\u001b[39m:(i\u001b[38;5;241m+\u001b[39m\u001b[38;5;241m1\u001b[39m)], pinv(np\u001b[38;5;241m.\u001b[39mdot(P[:, \u001b[38;5;241m0\u001b[39m:(i\u001b[38;5;241m+\u001b[39m\u001b[38;5;241m1\u001b[39m)]\u001b[38;5;241m.\u001b[39mT,\n\u001b[0;32m    685\u001b[0m            W[:, \u001b[38;5;241m0\u001b[39m:(i\u001b[38;5;241m+\u001b[39m\u001b[38;5;241m1\u001b[39m)]), check_finite\u001b[38;5;241m=\u001b[39m\u001b[38;5;28;01mFalse\u001b[39;00m))\n\u001b[0;32m    687\u001b[0m \u001b[38;5;66;03m# Execute regression y~T if y is present. Generate regression estimates.\u001b[39;00m\n\u001b[0;32m    688\u001b[0m \u001b[38;5;28;01mif\u001b[39;00m flag \u001b[38;5;241m!=\u001b[39m \u001b[38;5;124m'\u001b[39m\u001b[38;5;124mone-block\u001b[39m\u001b[38;5;124m'\u001b[39m:\n",
      "File \u001b[1;32m~\\AppData\\Local\\anaconda3\\Lib\\site-packages\\scipy\\linalg\\_basic.py:1326\u001b[0m, in \u001b[0;36mpinv\u001b[1;34m(a, atol, rtol, return_rank, check_finite, cond, rcond)\u001b[0m\n\u001b[0;32m   1252\u001b[0m \u001b[38;5;250m\u001b[39m\u001b[38;5;124;03m\"\"\"\u001b[39;00m\n\u001b[0;32m   1253\u001b[0m \u001b[38;5;124;03mCompute the (Moore-Penrose) pseudo-inverse of a matrix.\u001b[39;00m\n\u001b[0;32m   1254\u001b[0m \n\u001b[1;32m   (...)\u001b[0m\n\u001b[0;32m   1323\u001b[0m \n\u001b[0;32m   1324\u001b[0m \u001b[38;5;124;03m\"\"\"\u001b[39;00m\n\u001b[0;32m   1325\u001b[0m a \u001b[38;5;241m=\u001b[39m _asarray_validated(a, check_finite\u001b[38;5;241m=\u001b[39mcheck_finite)\n\u001b[1;32m-> 1326\u001b[0m u, s, vh \u001b[38;5;241m=\u001b[39m _decomp_svd\u001b[38;5;241m.\u001b[39msvd(a, full_matrices\u001b[38;5;241m=\u001b[39m\u001b[38;5;28;01mFalse\u001b[39;00m, check_finite\u001b[38;5;241m=\u001b[39m\u001b[38;5;28;01mFalse\u001b[39;00m)\n\u001b[0;32m   1327\u001b[0m t \u001b[38;5;241m=\u001b[39m u\u001b[38;5;241m.\u001b[39mdtype\u001b[38;5;241m.\u001b[39mchar\u001b[38;5;241m.\u001b[39mlower()\n\u001b[0;32m   1328\u001b[0m maxS \u001b[38;5;241m=\u001b[39m np\u001b[38;5;241m.\u001b[39mmax(s)\n",
      "File \u001b[1;32m~\\AppData\\Local\\anaconda3\\Lib\\site-packages\\scipy\\linalg\\_decomp_svd.py:133\u001b[0m, in \u001b[0;36msvd\u001b[1;34m(a, full_matrices, compute_uv, overwrite_a, check_finite, lapack_driver)\u001b[0m\n\u001b[0;32m    131\u001b[0m     \u001b[38;5;28;01mraise\u001b[39;00m LinAlgError(\u001b[38;5;124m\"\u001b[39m\u001b[38;5;124mSVD did not converge\u001b[39m\u001b[38;5;124m\"\u001b[39m)\n\u001b[0;32m    132\u001b[0m \u001b[38;5;28;01mif\u001b[39;00m info \u001b[38;5;241m<\u001b[39m \u001b[38;5;241m0\u001b[39m:\n\u001b[1;32m--> 133\u001b[0m     \u001b[38;5;28;01mraise\u001b[39;00m \u001b[38;5;167;01mValueError\u001b[39;00m(\u001b[38;5;124m'\u001b[39m\u001b[38;5;124millegal value in \u001b[39m\u001b[38;5;132;01m%d\u001b[39;00m\u001b[38;5;124mth argument of internal gesdd\u001b[39m\u001b[38;5;124m'\u001b[39m\n\u001b[0;32m    134\u001b[0m                      \u001b[38;5;241m%\u001b[39m \u001b[38;5;241m-\u001b[39minfo)\n\u001b[0;32m    135\u001b[0m \u001b[38;5;28;01mif\u001b[39;00m compute_uv:\n\u001b[0;32m    136\u001b[0m     \u001b[38;5;28;01mreturn\u001b[39;00m u, s, v\n",
      "\u001b[1;31mValueError\u001b[0m: illegal value in 4th argument of internal gesdd"
     ]
    }
   ],
   "source": [
    "import timeit \n",
    "\n",
    "dimensions = [2,20,200]\n",
    "cases = [50,500,5000,50000]\n",
    "lvs = [1,3,5]\n",
    "\n",
    "l = lvs[0]\n",
    "d = dimensions[0]\n",
    "\n",
    "resultsc = np.zeros((len(cases),7))\n",
    "\n",
    "for i,c in enumerate(cases):\n",
    "    for j,d in enumerate(dimensions):\n",
    "        for k,l in enumerate(lvs):\n",
    "            if l > d: \n",
    "                continue\n",
    "            print(f\"Running {c} cases, {l} LVs, {d} dimensions\")\n",
    "            loadings = np.random.uniform(1,5,(l,d))\n",
    "            scores = np.random.multivariate_normal(np.zeros(l),np.diag(np.ones(l)),c)\n",
    "            data = np.matmul(scores,loadings) + np.random.normal(0,0.02,(c,d))\n",
    "            gamma = np.random.uniform(1,25,(l,1))\n",
    "            response = np.matmul(scores,gamma) + np.random.normal(c)\n",
    "            t1 = timeit.time.time()\n",
    "            pppca = ppdire(projection_index = dicomo, pi_arguments = {'mode' : 'var'}, n_components=l, optimizer='SLSQP', trimming=.1, soft_trim=True)\n",
    "            pppca.fit(data)\n",
    "            t1 = timeit.time.time() - t1\n",
    "            t2 = timeit.time.time()\n",
    "            pppca2 = ppdire(projection_index = dicomo, pi_arguments = {'mode' : 'var'}, n_components=l, optimizer='grid', trimming=.1, soft_trim=False, optimizer_options={'maxiter':10})\n",
    "            pppca2.fit(data)\n",
    "            t2 = timeit.time.time() - t2\n",
    "            resultsc[i,:] = [c,d,l,t1,t2,t2/t1,np.sum(np.square(np.abs(pppca.x_loadings_) - np.abs(pppca2.x_loadings_)))]   \n",
    "\n",
    "results = ps.DataFrame(resultsc,columns=['n','p','h','time_soft','time_grid','time_ratio','msediff'])\n",
    "                     \n",
    "print(results)"
   ]
  },
  {
   "cell_type": "markdown",
   "metadata": {},
   "source": [
    "However, compression will not work properly if the data contain several low scale \n",
    "varables. In this example, it will not work for `X = datan.values[:,8:751]`. This \n",
    "will throw a warning, and `ppdire` will continue without compression. \n",
    "\n",
    "References\n",
    "----------------\n",
    "1. [Robust Multivariate Methods: The Projection Pursuit Approach](https://link.springer.com/chapter/10.1007/3-540-31314-1_32), Peter Filzmoser, Sven Serneels, Christophe Croux and Pierre J. Van Espen, in: From Data and Information Analysis to Knowledge Engineering, Spiliopoulou, M., Kruse, R., Borgelt, C., Nuernberger, A. and Gaul, W., eds., Springer Verlag, Berlin, Germany, 2006, pages 270--277.\n",
    "2. [Projection pursuit based generalized betas accounting for higher order co-moment effects in financial market analysis](https://arxiv.org/pdf/1908.00141.pdf), Sven Serneels, in: JSM Proceedings, Business and Economic Statistics Section. Alexandria, VA: American Statistical Association, 2019, 3009-3035.\n",
    "3. Robust principal components and dispersion matrices via projection pursuit, Chen, Z. and Li, G., Research Report, Department of Statistics, Harvard University, 1981.\n",
    "4. [Robust Continuum Regression](https://www.sciencedirect.com/science/article/abs/pii/S0169743904002667), Sven Serneels, Peter Filzmoser, Christophe Croux, Pierre J. Van Espen, Chemometrics and Intelligent Laboratory Systems, 76 (2005), 197-204."
   ]
  },
  {
   "cell_type": "code",
   "execution_count": null,
   "metadata": {},
   "outputs": [],
   "source": []
  }
 ],
 "metadata": {
  "@webio": {
   "lastCommId": null,
   "lastKernelId": null
  },
  "kernelspec": {
   "display_name": "Python 3 (ipykernel)",
   "language": "python",
   "name": "python3"
  },
  "language_info": {
   "codemirror_mode": {
    "name": "ipython",
    "version": 3
   },
   "file_extension": ".py",
   "mimetype": "text/x-python",
   "name": "python",
   "nbconvert_exporter": "python",
   "pygments_lexer": "ipython3",
   "version": "3.11.4"
  }
 },
 "nbformat": 4,
 "nbformat_minor": 4
}
