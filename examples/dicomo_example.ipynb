{
 "cells": [
  {
   "cell_type": "markdown",
   "metadata": {},
   "source": [
    "Examples for `dicomo.py` subpackage, (Co)-Moment Estimates\n",
    "====================================================\n",
    "To run a toy example, start by sourcing packages and data: "
   ]
  },
  {
   "cell_type": "code",
   "execution_count": 1,
   "metadata": {},
   "outputs": [
    {
     "ename": "ModuleNotFoundError",
     "evalue": "No module named 'cyipopt'",
     "output_type": "error",
     "traceback": [
      "\u001b[1;31m---------------------------------------------------------------------------\u001b[0m",
      "\u001b[1;31mModuleNotFoundError\u001b[0m                       Traceback (most recent call last)",
      "Cell \u001b[1;32mIn[1], line 6\u001b[0m\n\u001b[0;32m      4\u001b[0m \u001b[38;5;28;01mimport\u001b[39;00m \u001b[38;5;21;01mscipy\u001b[39;00m\u001b[38;5;21;01m.\u001b[39;00m\u001b[38;5;21;01mstats\u001b[39;00m \u001b[38;5;28;01mas\u001b[39;00m \u001b[38;5;21;01msps\u001b[39;00m\n\u001b[0;32m      5\u001b[0m \u001b[38;5;28;01mimport\u001b[39;00m \u001b[38;5;21;01mstatsmodels\u001b[39;00m\u001b[38;5;21;01m.\u001b[39;00m\u001b[38;5;21;01mrobust\u001b[39;00m \u001b[38;5;28;01mas\u001b[39;00m \u001b[38;5;21;01msrs\u001b[39;00m\n\u001b[1;32m----> 6\u001b[0m \u001b[38;5;28;01mfrom\u001b[39;00m \u001b[38;5;21;01mdirepack\u001b[39;00m \u001b[38;5;28;01mimport\u001b[39;00m dicomo\n\u001b[0;32m      7\u001b[0m \u001b[38;5;28;01mimport\u001b[39;00m \u001b[38;5;21;01mdcor\u001b[39;00m \u001b[38;5;28;01mas\u001b[39;00m \u001b[38;5;21;01mdc\u001b[39;00m\n\u001b[0;32m      8\u001b[0m data \u001b[38;5;241m=\u001b[39m ps\u001b[38;5;241m.\u001b[39mread_csv(\u001b[38;5;124m\"\u001b[39m\u001b[38;5;124m../data/Returns_shares.csv\u001b[39m\u001b[38;5;124m\"\u001b[39m)\n",
      "File \u001b[1;32m~\\AppData\\Local\\anaconda3\\Lib\\site-packages\\direpack\\__init__.py:32\u001b[0m\n\u001b[0;32m     30\u001b[0m \u001b[38;5;28;01mfrom\u001b[39;00m \u001b[38;5;21;01m.\u001b[39;00m\u001b[38;5;21;01msprm\u001b[39;00m\u001b[38;5;21;01m.\u001b[39;00m\u001b[38;5;21;01mrm\u001b[39;00m \u001b[38;5;28;01mimport\u001b[39;00m rm\n\u001b[0;32m     31\u001b[0m \u001b[38;5;28;01mfrom\u001b[39;00m \u001b[38;5;21;01m.\u001b[39;00m\u001b[38;5;21;01mcross_validation\u001b[39;00m\u001b[38;5;21;01m.\u001b[39;00m\u001b[38;5;21;01m_cv_support_functions\u001b[39;00m \u001b[38;5;28;01mimport\u001b[39;00m robust_loss\n\u001b[1;32m---> 32\u001b[0m \u001b[38;5;28;01mfrom\u001b[39;00m \u001b[38;5;21;01m.\u001b[39;00m\u001b[38;5;21;01mppdire\u001b[39;00m\u001b[38;5;21;01m.\u001b[39;00m\u001b[38;5;21;01mppdire\u001b[39;00m \u001b[38;5;28;01mimport\u001b[39;00m ppdire\n\u001b[0;32m     33\u001b[0m \u001b[38;5;28;01mfrom\u001b[39;00m \u001b[38;5;21;01m.\u001b[39;00m\u001b[38;5;21;01mppdire\u001b[39;00m\u001b[38;5;21;01m.\u001b[39;00m\u001b[38;5;21;01mcapi\u001b[39;00m \u001b[38;5;28;01mimport\u001b[39;00m capi\n\u001b[0;32m     34\u001b[0m \u001b[38;5;28;01mfrom\u001b[39;00m \u001b[38;5;21;01m.\u001b[39;00m\u001b[38;5;21;01mdicomo\u001b[39;00m\u001b[38;5;21;01m.\u001b[39;00m\u001b[38;5;21;01mdicomo\u001b[39;00m \u001b[38;5;28;01mimport\u001b[39;00m dicomo\n",
      "File \u001b[1;32m~\\AppData\\Local\\anaconda3\\Lib\\site-packages\\direpack\\ppdire\\ppdire.py:32\u001b[0m\n\u001b[0;32m     30\u001b[0m \u001b[38;5;28;01mfrom\u001b[39;00m \u001b[38;5;21;01m.\u001b[39;00m\u001b[38;5;21;01m.\u001b[39;00m\u001b[38;5;21;01mutils\u001b[39;00m\u001b[38;5;21;01m.\u001b[39;00m\u001b[38;5;21;01mutils\u001b[39;00m \u001b[38;5;28;01mimport\u001b[39;00m MyException, convert_X_input, convert_y_input\n\u001b[0;32m     31\u001b[0m \u001b[38;5;28;01mimport\u001b[39;00m \u001b[38;5;21;01minspect\u001b[39;00m\n\u001b[1;32m---> 32\u001b[0m \u001b[38;5;28;01mfrom\u001b[39;00m \u001b[38;5;21;01m.\u001b[39;00m\u001b[38;5;21;01m.\u001b[39;00m\u001b[38;5;21;01mipopt_temp\u001b[39;00m\u001b[38;5;21;01m.\u001b[39;00m\u001b[38;5;21;01mipopt_wrapper\u001b[39;00m \u001b[38;5;28;01mimport\u001b[39;00m minimize_ipopt\n\u001b[0;32m     33\u001b[0m \u001b[38;5;28;01mfrom\u001b[39;00m \u001b[38;5;21;01m.\u001b[39;00m\u001b[38;5;21;01m.\u001b[39;00m\u001b[38;5;21;01mipopt_temp\u001b[39;00m\u001b[38;5;21;01m.\u001b[39;00m\u001b[38;5;21;01mjacobian\u001b[39;00m \u001b[38;5;28;01mimport\u001b[39;00m (\n\u001b[0;32m     34\u001b[0m     FunctionWithApproxJacobianCentral,\n\u001b[0;32m     35\u001b[0m     FunctionWithApproxJacobian,\n\u001b[0;32m     36\u001b[0m )\n\u001b[0;32m     39\u001b[0m \u001b[38;5;28;01mclass\u001b[39;00m \u001b[38;5;21;01mppdire\u001b[39;00m(_BaseComposition, BaseEstimator, TransformerMixin, RegressorMixin):\n",
      "File \u001b[1;32m~\\AppData\\Local\\anaconda3\\Lib\\site-packages\\direpack\\ipopt_temp\\ipopt_wrapper.py:39\u001b[0m\n\u001b[0;32m     36\u001b[0m         \u001b[38;5;28;01mfrom\u001b[39;00m \u001b[38;5;21;01mscipy\u001b[39;00m\u001b[38;5;21;01m.\u001b[39;00m\u001b[38;5;21;01moptimize\u001b[39;00m \u001b[38;5;28;01mimport\u001b[39;00m Result\n\u001b[0;32m     37\u001b[0m         OptimizeResult \u001b[38;5;241m=\u001b[39m Result\n\u001b[1;32m---> 39\u001b[0m \u001b[38;5;28;01mimport\u001b[39;00m \u001b[38;5;21;01mcyipopt\u001b[39;00m\n\u001b[0;32m     40\u001b[0m \u001b[38;5;28;01mfrom\u001b[39;00m \u001b[38;5;21;01m.\u001b[39;00m\u001b[38;5;21;01mjacobian\u001b[39;00m \u001b[38;5;28;01mimport\u001b[39;00m FunctionWithApproxJacobianCentral,FunctionWithApproxJacobian\n\u001b[0;32m     43\u001b[0m \u001b[38;5;28;01mclass\u001b[39;00m \u001b[38;5;21;01mIpoptProblemWrapper\u001b[39;00m(\u001b[38;5;28mobject\u001b[39m):\n",
      "\u001b[1;31mModuleNotFoundError\u001b[0m: No module named 'cyipopt'"
     ]
    }
   ],
   "source": [
    "# Load data\n",
    "import pandas as ps\n",
    "import numpy as np\n",
    "import scipy.stats as sps\n",
    "import statsmodels.robust as srs\n",
    "from direpack import dicomo\n",
    "import dcor as dc\n",
    "data = ps.read_csv(\"../data/Returns_shares.csv\")\n",
    "columns = data.columns[2:8]\n",
    "(n,p) = data.shape\n",
    "datav = np.matrix(data.values[:,2:8].astype('float64'))\n",
    "y = datav[:,0]\n",
    "x = datav[:,1]"
   ]
  },
  {
   "cell_type": "markdown",
   "metadata": {},
   "source": [
    "Product-Moment Statistics\n",
    "=========================\n",
    "a) Moments\n",
    "----------\n",
    "Let's compare some moment estimates to `numpy`'s version. \n",
    "\n",
    " - Second moment: variance "
   ]
  },
  {
   "cell_type": "code",
   "execution_count": 2,
   "metadata": {},
   "outputs": [
    {
     "ename": "NameError",
     "evalue": "name 'dicomo' is not defined",
     "output_type": "error",
     "traceback": [
      "\u001b[1;31m---------------------------------------------------------------------------\u001b[0m",
      "\u001b[1;31mNameError\u001b[0m                                 Traceback (most recent call last)",
      "Cell \u001b[1;32mIn[2], line 2\u001b[0m\n\u001b[0;32m      1\u001b[0m \u001b[38;5;66;03m# Variance \u001b[39;00m\n\u001b[1;32m----> 2\u001b[0m covest \u001b[38;5;241m=\u001b[39m dicomo() \n\u001b[0;32m      3\u001b[0m \u001b[38;5;66;03m# division by n\u001b[39;00m\n\u001b[0;32m      4\u001b[0m \u001b[38;5;28mprint\u001b[39m(\u001b[38;5;124m\"\u001b[39m\u001b[38;5;124mVariance without finite sample correction estimated by dicomo:\u001b[39m\u001b[38;5;124m\"\u001b[39m \u001b[38;5;241m+\u001b[39m \u001b[38;5;28mstr\u001b[39m(covest\u001b[38;5;241m.\u001b[39mfit(x,biascorr\u001b[38;5;241m=\u001b[39m\u001b[38;5;28;01mFalse\u001b[39;00m)))\n",
      "\u001b[1;31mNameError\u001b[0m: name 'dicomo' is not defined"
     ]
    }
   ],
   "source": [
    "# Variance \n",
    "covest = dicomo() \n",
    "# division by n\n",
    "print(\"Variance without finite sample correction estimated by dicomo:\" + str(covest.fit(x,biascorr=False)))\n",
    "print(\"Variance without finite sample correction estimated by numpy:\" + str(np.var(x)))\n",
    "        \n",
    "# division by n-1 \n",
    "print(\"Variance with finite sample correction estimated by dicomo:\" + str(covest.fit(x,biascorr=True)))\n",
    "print(\"Variance with finite sample correction estimated by numpy:\" + str(np.var(x)*n/(n-1)))\n",
    "        \n",
    "    \n",
    "# Robust trimmed variance: \n",
    "print(\"Robust 10% trimmed variance:\" + str(covest.fit(x,biascorr=False,trimming=.1)))\n",
    "        \n",
    "# Nonparametric Scale: MAD\n",
    "# NB at this point, this is the only exception where dicomo will yield scale instead of the moment itself\n",
    "covest.set_params(center='median')\n",
    "print(\"MAD ex dicomo:\" + str(covest.fit(x)))\n",
    "print(\"MAD ex statsmodels:\" + str(srs.mad(x)))\n"
   ]
  },
  {
   "cell_type": "markdown",
   "metadata": {},
   "source": [
    "- third moment and skewness: "
   ]
  },
  {
   "cell_type": "code",
   "execution_count": 4,
   "metadata": {},
   "outputs": [
    {
     "name": "stdout",
     "output_type": "stream",
     "text": [
      "{'center': 'mean', 'est': 'arithmetic', 'mode': 'mom'}\n",
      "Third moment estimated by dicomo:1.2796570257022306\n",
      "Third moment estimated by scipy.stats:[1.27965703]\n",
      "Skewness estimated by dicomo without small sample correction:0.3881195552213812\n",
      "Skewness estimated by scipy without small sample correction:[0.38811956]\n",
      "Skewness estimated by dicomo with small sample correction:0.3882872295778524\n",
      "Skewness estimated by scipy with small sample correction:[0.38828723]\n"
     ]
    }
   ],
   "source": [
    "# Third Moment  \n",
    "# division by n\n",
    "covest.set_params(center='mean',mode='mom')\n",
    "print(covest.get_params())\n",
    "print(\"Third moment estimated by dicomo:\" + str(covest.fit(x,biascorr=False,order=3)))\n",
    "print(\"Third moment estimated by scipy.stats:\" + str(sps.moment(x,3)))\n",
    "        \n",
    "# skewness \n",
    "covest.set_params(mode='skew')\n",
    "print(\"Skewness estimated by dicomo without small sample correction:\" + str(covest.fit(x,biascorr=False)))\n",
    "print(\"Skewness estimated by scipy without small sample correction:\" + str(sps.skew(x)))\n",
    "print(\"Skewness estimated by dicomo with small sample correction:\" + str(covest.fit(x,biascorr=True)))\n",
    "print(\"Skewness estimated by scipy with small sample correction:\" + str(sps.skew(x,bias=False)))"
   ]
  },
  {
   "cell_type": "markdown",
   "metadata": {},
   "source": [
    "- Fourth Moment and Kurtosis"
   ]
  },
  {
   "cell_type": "code",
   "execution_count": 5,
   "metadata": {},
   "outputs": [
    {
     "name": "stdout",
     "output_type": "stream",
     "text": [
      "Fourth moment estimated by dicomo:88.13900011202283\n",
      "Fourth moment estimated by scipy.stats:[88.13900011]\n",
      "Fourth moment estimated by dicomo, 20% trimmed:0.846793760134836\n",
      "Kurtosis estimated by dicomo without any corrections:17.961007966358487\n",
      "Kurtosis estimated by scipy without any correction:[17.96100797]\n",
      "Kurtosis estimated by dicomo with small sample correction:17.984292234604126\n",
      "Kurtosis estimated by scipy with small sample correction:[17.98429223]\n",
      "Kurtosis estimated by dicomo with small sample and Fisher corrections:14.984292234604126\n",
      "Kurtosis estimated by scipy with small sample and Fisher corrections:[14.98429223]\n"
     ]
    }
   ],
   "source": [
    "# 4th Moment \n",
    "covest.set_params(mode='mom')\n",
    "print(\"Fourth moment estimated by dicomo:\" + str(covest.fit(x,biascorr=False,order=4)))\n",
    "print(\"Fourth moment estimated by scipy.stats:\" + str(sps.moment(x,4)))\n",
    "\n",
    "# Again, we can trim: \n",
    "print(\"Fourth moment estimated by dicomo, 20% trimmed:\" + str(covest.fit(x,biascorr=False,order=4,trimming=.2)))\n",
    "\n",
    "#Kurtosis \n",
    "covest.set_params(mode='kurt')\n",
    "print(\"Kurtosis estimated by dicomo without any corrections:\" + str(covest.fit(x,biascorr=False)))\n",
    "print(\"Kurtosis estimated by scipy without any correction:\" + str(sps.kurtosis(x,fisher=False,bias=True)))\n",
    "print(\"Kurtosis estimated by dicomo with small sample correction:\" + str(covest.fit(x,biascorr=True,Fisher=False)))\n",
    "print(\"Kurtosis estimated by scipy with small sample correction:\" + str(sps.kurtosis(x,fisher=False,bias=False)))\n",
    "print(\"Kurtosis estimated by dicomo with small sample and Fisher corrections:\" + str(covest.fit(x,biascorr=True,Fisher=True)))\n",
    "print(\"Kurtosis estimated by scipy with small sample and Fisher corrections:\" + str(sps.kurtosis(x,fisher=True,bias=False)))"
   ]
  },
  {
   "cell_type": "markdown",
   "metadata": {},
   "source": [
    "b) Co-Momemnts \n",
    "--------------\n",
    "- Second order co-moment"
   ]
  },
  {
   "cell_type": "code",
   "execution_count": 6,
   "metadata": {},
   "outputs": [
    {
     "name": "stdout",
     "output_type": "stream",
     "text": [
      "Covariance estimated by pandas:\n",
      "          KMB       XOM\n",
      "KMB  1.147585  0.748737\n",
      "XOM  0.748737  2.215867\n",
      "Covariance estimated by dicomo:0.7487368016330135\n",
      "10% Trimmed Covariance estimated by dicomo:0.2737112962842033\n"
     ]
    }
   ],
   "source": [
    "# Covariance \n",
    "covest.set_params(mode='com')\n",
    "print(\"Covariance estimated by pandas:\" + \"\\n\" + str(data.iloc[:,2:4].cov()))\n",
    "print(\"Covariance estimated by dicomo:\" + str(covest.fit(x,y=y,biascorr=True)))\n",
    "\n",
    "# Trimmed Covariance\n",
    "print(\"10% Trimmed Covariance estimated by dicomo:\" + str(covest.fit(x,y=y,biascorr=True,trimming=.1)))"
   ]
  },
  {
   "cell_type": "markdown",
   "metadata": {},
   "source": [
    "Note that `pandas` calculates covariance with small sample correction by default (division by n - 1)\n",
    "\n",
    "- Third order co-moments"
   ]
  },
  {
   "cell_type": "code",
   "execution_count": 7,
   "metadata": {},
   "outputs": [
    {
     "name": "stdout",
     "output_type": "stream",
     "text": [
      "Third co-moment estimated by dicomo:0.3900937277965764\n",
      "Co-skewness estimated by dicomo:0.1643360470693657\n"
     ]
    }
   ],
   "source": [
    "# Third order co-moment (x,x,y) \n",
    "covest.set_params(mode='com')\n",
    "print(\"Third co-moment estimated by dicomo:\" + str(covest.fit(x,y=y,biascorr=True,option=1,order=3)))\n",
    "# Co-skewness (x,x,y)\n",
    "covest.set_params(mode='cos')\n",
    "print(\"Co-skewness estimated by dicomo:\" + str(covest.fit(x,y=y,biascorr=True,option=1)))"
   ]
  },
  {
   "cell_type": "markdown",
   "metadata": {},
   "source": [
    "Note that is is difficult to find a benchmark to compare against. Some higher order co-moments can be found in the `R` package `PerformanceAnalytics`. A comparison to those is beyond the scope of this notebook.\n",
    "\n",
    "- Fourth order co-moments \n",
    "\n",
    "By now, we get how the class works."
   ]
  },
  {
   "cell_type": "code",
   "execution_count": 8,
   "metadata": {},
   "outputs": [
    {
     "name": "stdout",
     "output_type": "stream",
     "text": [
      "{'center': 'mean', 'est': 'arithmetic', 'mode': 'cok'}\n",
      "Co-kurtosis estimated integrally by dicomo:10.616246070495807\n"
     ]
    }
   ],
   "source": [
    "# Co-Kurtosis\n",
    "covest.set_params(mode='cok')\n",
    "print(covest.get_params())\n",
    "print(\"Co-kurtosis estimated integrally by dicomo:\" + str(covest.fit(x,y=y,biascorr=False,option=1)))\n",
    "\n",
    "\n",
    "\n"
   ]
  },
  {
   "cell_type": "markdown",
   "metadata": {},
   "source": [
    "- Correlation"
   ]
  },
  {
   "cell_type": "code",
   "execution_count": 9,
   "metadata": {},
   "outputs": [
    {
     "name": "stdout",
     "output_type": "stream",
     "text": [
      "Pearson correlation matrix estimated by pandas:\n",
      "          KMB       XOM\n",
      "KMB  1.000000  0.469532\n",
      "XOM  0.469532  1.000000\n",
      "Pearson correlation coefficient estimated by dicomo:0.46953169893364827\n",
      "10% trimmed Pearson correlation coefficient estimated by dicomo:0.3812162776658803\n"
     ]
    }
   ],
   "source": [
    "# Correlation \n",
    "covest.set_params(mode='corr')\n",
    "print(\"Pearson correlation matrix estimated by pandas:\" + \"\\n\" + str(data.iloc[:,2:4].corr()))\n",
    "print(\"Pearson correlation coefficient estimated by dicomo:\" + str(covest.fit(x,y=y)))\n",
    "\n",
    "# Will also do a trimmed version\n",
    "print(\"10% trimmed Pearson correlation coefficient estimated by dicomo:\" + str(covest.fit(x,y=y,trimming=.1)))"
   ]
  },
  {
   "cell_type": "markdown",
   "metadata": {},
   "source": [
    "- Continuum Association\n",
    "\n",
    "The continuum option provides any estimate in the continuum from variance to correlation coefficient. The trimmed version of this option is the projection index in Robust Continuum Regression (RCR) \\[1\\]. Setting `alpha = 1` yeilds covariance; the higher alpha, the closer it will get to variance. Setting alpha closer to zero lets it approach Pearson correlation.  "
   ]
  },
  {
   "cell_type": "code",
   "execution_count": 10,
   "metadata": {},
   "outputs": [
    {
     "name": "stdout",
     "output_type": "stream",
     "text": [
      "{'center': 'mean', 'est': 'arithmetic', 'mode': 'continuum'}\n",
      "Covariance matrix estimated by pandas:\n",
      "          KMB       XOM\n",
      "KMB  1.147585  0.748737\n",
      "XOM  0.748737  2.215867\n",
      "Covariance estimated in dicomo continuum:0.7487368016330135\n",
      "Robust 10% trimmed continuum association:0.27549572197011707\n"
     ]
    }
   ],
   "source": [
    "# Continuum \n",
    "covest.set_params(mode='continuum')\n",
    "print(covest.get_params())\n",
    "print(\"Covariance matrix estimated by pandas:\" + \"\\n\" + str(data.iloc[:,2:4].cov()))\n",
    "print(\"Covariance estimated in dicomo continuum:\" + str(np.sqrt(covest.fit(x,y=y,alpha=1,biascorr=True))))\n",
    "print(\"Robust 10% trimmed continuum association:\" + str(np.sqrt(covest.fit(x,y=y,alpha=.5,biascorr=True,trimming=.1))))"
   ]
  },
  {
   "cell_type": "markdown",
   "metadata": {},
   "source": [
    "Energy Statistics\n",
    "=================\n",
    "- distance variance: "
   ]
  },
  {
   "cell_type": "code",
   "execution_count": 12,
   "metadata": {},
   "outputs": [
    {
     "name": "stdout",
     "output_type": "stream",
     "text": [
      "Distance Statistics estimated by dcov\n",
      "0.7484726076018628\n",
      "Distance variance estimated by dicomo:0.7484726076018628\n",
      "Distance Statistics, unibiased in high dimension, estimated by dcov\n",
      "0.7477359326096397\n",
      "Distance variance, unibiased in high dimension, estimated by dicomo:0.7477359326096397\n",
      "Distance variance, unibiased in high dimension, estimated by dicomo, naive calculation mode:\n",
      "0.7477359326096309\n"
     ]
    }
   ],
   "source": [
    "# Variance\n",
    "n=len(x)\n",
    "covest.set_params(est='distance',mode='var')\n",
    "print(\"Distance Statistics estimated by dcov\" + \"\\n\" +  str(dc.distance_stats(x,x).covariance_xy))\n",
    "print(\"Distance variance estimated by dicomo:\" + str(covest.fit(x,biascorr=False)))\n",
    "print(\"Distance Statistics, unibiased in high dimension, estimated by dcov\" + \"\\n\" +  str(np.sqrt(dc.u_distance_stats_sqr(x,x).covariance_xy)))\n",
    "print(\"Distance variance, unibiased in high dimension, estimated by dicomo:\" + str(covest.fit(x,biascorr=True)))\n",
    "print(\"Distance variance, unibiased in high dimension, estimated by dicomo, naive calculation mode:\" + \"\\n\" + str(covest.fit(x,biascorr=True,calcmode='slow')))\n",
    "# The default for var, cov is to run 'fast' calculation mode where possible"
   ]
  },
  {
   "cell_type": "markdown",
   "metadata": {},
   "source": [
    "Note that, just like for the product-moment statistics, there is an option to use different internal centring.\n",
    "Medians can be plugged in by setting `center='median'` and trimmed means can be plugged in by passing a trimming fraction. However, for energy statistics, it is unclear what the properties of the resulting estimate will be. "
   ]
  },
  {
   "cell_type": "code",
   "execution_count": 13,
   "metadata": {},
   "outputs": [
    {
     "data": {
      "text/plain": [
       "0.5663926271002548"
      ]
     },
     "execution_count": 13,
     "metadata": {},
     "output_type": "execute_result"
    }
   ],
   "source": [
    "covest.fit(x,biascorr=False,trimming=.1)"
   ]
  },
  {
   "cell_type": "markdown",
   "metadata": {},
   "source": [
    "- distance covariance:"
   ]
  },
  {
   "cell_type": "code",
   "execution_count": 14,
   "metadata": {},
   "outputs": [
    {
     "name": "stdout",
     "output_type": "stream",
     "text": [
      "Distance Covariance estimated by dcov: 0.24601858995627712\n",
      "Distance Covariance estimated by dicomo: 0.24601858995627712\n",
      "Distance Covariance estimated by dicomo, naive calculation mode: 0.24601858995627846\n"
     ]
    }
   ],
   "source": [
    "covest.set_params(mode='com')\n",
    "print(\"Distance Covariance estimated by dcov: \" +  str(dc.distance_covariance(x,y)))\n",
    "print(\"Distance Covariance estimated by dicomo: \" + str(covest.fit(x,y=y,biascorr=False)))\n",
    "print(\"Distance Covariance estimated by dicomo, naive calculation mode: \" + str(covest.fit(x,y=y,biascorr=False,calcmode='slow')))\n",
    "# The versions unbiased in high dimension, can be assessed as above"
   ]
  },
  {
   "cell_type": "markdown",
   "metadata": {},
   "source": [
    "- martingale difference divergence"
   ]
  },
  {
   "cell_type": "code",
   "execution_count": 15,
   "metadata": {},
   "outputs": [
    {
     "name": "stdout",
     "output_type": "stream",
     "text": [
      "Martingale difference divergence estimated by dicomo: 0.3524271500865358\n"
     ]
    }
   ],
   "source": [
    "covest.set_params(mode='mdd')\n",
    "print(\"Martingale difference divergence estimated by dicomo: \" +  str(covest.fit(x,y=y)))"
   ]
  },
  {
   "cell_type": "markdown",
   "metadata": {},
   "source": [
    "- distance correlation"
   ]
  },
  {
   "cell_type": "code",
   "execution_count": 16,
   "metadata": {},
   "outputs": [
    {
     "name": "stdout",
     "output_type": "stream",
     "text": [
      "Distance Correlation estimated by dcov: 0.37849170732225507\n",
      "Distance Correlation estimated by dicomo: 0.37849170732225507\n",
      "Distance Correlation estimated by dicomo, naive calculation mode: 0.3784917073222609\n"
     ]
    }
   ],
   "source": [
    "covest.set_params(mode='corr')\n",
    "print(\"Distance Correlation estimated by dcov: \" +  str(dc.distance_correlation(x,y)))\n",
    "print(\"Distance Correlation estimated by dicomo: \" + str(covest.fit(x,y=y)))\n",
    "print(\"Distance Correlation estimated by dicomo, naive calculation mode: \" + str(covest.fit(x,y=y,calcmode='slow')))"
   ]
  },
  {
   "cell_type": "markdown",
   "metadata": {},
   "source": [
    "- martingale difference correlation: "
   ]
  },
  {
   "cell_type": "code",
   "execution_count": 17,
   "metadata": {},
   "outputs": [
    {
     "name": "stdout",
     "output_type": "stream",
     "text": [
      "Martingale difference correlation estimated by dicomo: 0.44837499675866715\n"
     ]
    }
   ],
   "source": [
    "covest.set_params(mode='mdc')\n",
    "print(\"Martingale difference correlation estimated by dicomo: \" +  str(covest.fit(x,y=y)))"
   ]
  },
  {
   "cell_type": "markdown",
   "metadata": {},
   "source": [
    "- distance continuum association: "
   ]
  },
  {
   "cell_type": "code",
   "execution_count": 18,
   "metadata": {},
   "outputs": [
    {
     "name": "stdout",
     "output_type": "stream",
     "text": [
      "Distance Covariance estimated by dcov: 0.24601858995627712\n",
      "Distance Covariance estimated through continuum: 0.24601858995627712\n",
      "Distance Continuum Association with small alpha: 0.2603176544258358\n"
     ]
    }
   ],
   "source": [
    "covest.set_params(mode='continuum')\n",
    "print(\"Distance Covariance estimated by dcov: \" +  str(dc.distance_covariance(x,y)))\n",
    "print(\"Distance Covariance estimated through continuum: \" + str(np.sqrt(covest.fit(x,y=y,alpha=1,biascorr=False)))) \n",
    "print(\"Distance Continuum Association with small alpha: \" + str(np.sqrt(covest.fit(x,y=y,alpha=.22,biascorr=False))))"
   ]
  },
  {
   "cell_type": "code",
   "execution_count": null,
   "metadata": {},
   "outputs": [],
   "source": []
  },
  {
   "cell_type": "code",
   "execution_count": null,
   "metadata": {},
   "outputs": [],
   "source": []
  }
 ],
 "metadata": {
  "@webio": {
   "lastCommId": null,
   "lastKernelId": null
  },
  "kernelspec": {
   "display_name": "Python 3 (ipykernel)",
   "language": "python",
   "name": "python3"
  },
  "language_info": {
   "codemirror_mode": {
    "name": "ipython",
    "version": 3
   },
   "file_extension": ".py",
   "mimetype": "text/x-python",
   "name": "python",
   "nbconvert_exporter": "python",
   "pygments_lexer": "ipython3",
   "version": "3.11.4"
  },
  "vscode": {
   "interpreter": {
    "hash": "cda5cde29ce07f96d51a55ad73b9f38ae050a9d49c61f2f032448cd03239e39e"
   }
  }
 },
 "nbformat": 4,
 "nbformat_minor": 4
}
